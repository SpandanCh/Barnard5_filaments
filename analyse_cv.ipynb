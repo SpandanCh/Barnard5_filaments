{
 "cells": [
  {
   "cell_type": "markdown",
   "id": "75929280",
   "metadata": {},
   "source": [
    "# Analyse different properties along the spines of the filaments and orthogonal cuts"
   ]
  },
  {
   "cell_type": "code",
   "execution_count": null,
   "id": "ef6e3eda",
   "metadata": {},
   "outputs": [],
   "source": [
    "import astropy.io.fits as fits\n",
    "import astropy.units as u\n",
    "import numpy as np\n",
    "import matplotlib.pyplot as plt"
   ]
  },
  {
   "cell_type": "markdown",
   "id": "95ce6deb",
   "metadata": {},
   "source": [
    "### Produce the orthogonal cuts to the spines\n"
   ]
  },
  {
   "cell_type": "code",
   "execution_count": null,
   "id": "70ed9b0f",
   "metadata": {},
   "outputs": [],
   "source": [
    "def callRadfil(hdu_all, filspine, filmask, distance, cut_separation=None, print_scale_and_sampling=False, \n",
    "              shift_to_param_peak=False):\n",
    "\n",
    "    from radfil import radfil_class as rfc\n",
    "\n",
    "\n",
    "    alldata = hdu_all[0].data\n",
    "    allhead = hdu_all[0].header\n",
    "#     allhead['bunit'] = 'Jy/pixel'\n",
    "    bmaj = allhead['bmaj'] * u.degree\n",
    "\n",
    "\n",
    "    arobj = rfc.radfil(alldata, mask=filmask, filspine=filspine, header=allhead, distance=(distance.to(u.pc)).value)\n",
    "\n",
    "    #\n",
    "    # extract the spine profiles\n",
    "\n",
    "    beamscale = (distance * bmaj.to(u.radian).value).to(u.au)\n",
    "    imagescale = arobj.imgscale.to(u.au)\n",
    "    sampling = int(np.round((beamscale / imagescale), 0))\n",
    "    if cut_separation is not None:\n",
    "        sampling = cut_separation\n",
    "\n",
    "    \n",
    "    if print_scale_and_sampling:\n",
    "        print('    beamscale  = {}'.format(beamscale))\n",
    "        print('    imagescale = {}'.format(imagescale))\n",
    "        print('    sampling   = {}'.format(sampling))\n",
    "    \n",
    "    arobj.build_profile(samp_int=sampling, shift=shift_to_param_peak)\n",
    "\n",
    "    return arobj"
   ]
  },
  {
   "cell_type": "code",
   "execution_count": null,
   "id": "0a3e28f1",
   "metadata": {},
   "outputs": [],
   "source": []
  },
  {
   "cell_type": "markdown",
   "id": "0b22f50b",
   "metadata": {},
   "source": [
    "#### data files"
   ]
  },
  {
   "cell_type": "code",
   "execution_count": null,
   "id": "799c757f",
   "metadata": {},
   "outputs": [],
   "source": [
    "distance = 302 * u.pc\n",
    "centerCoords = ['03:47:38.992 32:52:50.00', '03:47:40.4 32:51:33.6']\n",
    "\n",
    "data_dir = 'data_files_prev_works/filaments_anika/data_8as/'\n",
    "\n",
    "dataFile = data_dir + 'nh3_11_whole_mom0_8as_3px.fits'\n",
    "hdu_all = fits.open(dataFile)\n"
   ]
  },
  {
   "cell_type": "code",
   "execution_count": null,
   "id": "9b246573",
   "metadata": {},
   "outputs": [],
   "source": [
    "### Filament 1 ###\n",
    "\n",
    "fil1File = data_dir + 'B5_nh3_fil1.fits'\n",
    "fil1MaskFile = data_dir + 'B5_mask_fil1.fits'\n",
    "fil1SpineFile = data_dir + 'B5_spine_fil1.fits'\n",
    "\n",
    "fil1mask = fits.getdata(fil1MaskFile).astype(bool)\n",
    "fil1spine = fits.getdata(fil1SpineFile).astype(bool)\n",
    "\n",
    "cuts_fil1 = callRadfil(hdu_all, fil1spine, fil1mask, distance, cut_separation=4)\n",
    "dict_fil1 = cuts_fil1.dictionary_cuts"
   ]
  },
  {
   "cell_type": "code",
   "execution_count": null,
   "id": "734ecdde",
   "metadata": {},
   "outputs": [],
   "source": [
    "# Filament 2 ###\n",
    "\n",
    "fil2File = data_dir + 'B5_nh3_fil2.fits'\n",
    "fil2MaskFile = data_dir + 'B5_mask_fil2.fits'\n",
    "fil2SpineFile = data_dir + 'B5_spine_fil2.fits'\n",
    "\n",
    "fil2mask = fits.getdata(fil2MaskFile).astype(bool)\n",
    "fil2spine = fits.getdata(fil2SpineFile).astype(bool)\n",
    "\n",
    "cuts_fil2 = callRadfil(hdu_all, fil2spine, fil2mask, distance, cut_separation=4)\n",
    "dict_fil2 = cuts_fil2.dictionary_cuts"
   ]
  },
  {
   "cell_type": "code",
   "execution_count": null,
   "id": "a02afaf0",
   "metadata": {},
   "outputs": [],
   "source": []
  },
  {
   "cell_type": "markdown",
   "id": "0d4843a6",
   "metadata": {},
   "source": [
    "##### centre of the cuts, position of highest mom0 value along the cut"
   ]
  },
  {
   "cell_type": "code",
   "execution_count": null,
   "id": "ea7cc7c7",
   "metadata": {},
   "outputs": [],
   "source": [
    "cent_spn_fil1 = dict_fil1['plot_peaks']\n",
    "cent_spn_fil2 = dict_fil2['plot_peaks']\n",
    "\n",
    "cent_spn_both = [cent_spn_fil1, cent_spn_fil2]"
   ]
  },
  {
   "cell_type": "markdown",
   "id": "f6578e7b",
   "metadata": {},
   "source": [
    "##### co-ordinates of the end-points of the cuts"
   ]
  },
  {
   "cell_type": "code",
   "execution_count": null,
   "id": "73a162a8",
   "metadata": {},
   "outputs": [],
   "source": [
    "coords_endpt_cuts_fil1 = np.asarray(dict_fil1['plot_cuts'])\n",
    "coords_endpt_cuts_fil2 = np.asarray(dict_fil2['plot_cuts'])\n",
    "\n",
    "x1_spn_fil1 = coords_endpt_cuts_fil1[:,0,0]\n",
    "y1_spn_fil1 = coords_endpt_cuts_fil1[:,0,1]\n",
    "x2_spn_fil1 = coords_endpt_cuts_fil1[:,1,0]\n",
    "y2_spn_fil1 = coords_endpt_cuts_fil1[:,1,1]\n",
    "\n",
    "x1_spn_fil2 = coords_endpt_cuts_fil2[:,0,0]\n",
    "y1_spn_fil2 = coords_endpt_cuts_fil2[:,0,1]\n",
    "x2_spn_fil2 = coords_endpt_cuts_fil2[:,1,0]\n",
    "y2_spn_fil2 = coords_endpt_cuts_fil2[:,1,1]\n",
    "\n",
    "\n",
    "x1_spn_both = [x1_spn_fil1, x1_spn_fil2]\n",
    "x2_spn_both = [x2_spn_fil1, x2_spn_fil2]\n",
    "y1_spn_both = [y1_spn_fil1, y1_spn_fil2]\n",
    "y2_spn_both = [y2_spn_fil1, y2_spn_fil2]\n"
   ]
  },
  {
   "cell_type": "code",
   "execution_count": null,
   "id": "9cb15464",
   "metadata": {},
   "outputs": [],
   "source": []
  },
  {
   "cell_type": "markdown",
   "id": "140e7c99",
   "metadata": {},
   "source": [
    "### Show spines and orthogonal cuts"
   ]
  },
  {
   "cell_type": "code",
   "execution_count": null,
   "id": "07ac787c",
   "metadata": {},
   "outputs": [],
   "source": [
    "from os import listdir\n",
    "\n",
    "fls = listdir('data_files_prev_works/masks_anika')\n",
    "fls = [i for i in fls if 'rgrd.fits' in i]\n",
    "\n",
    "msk_regs = {ms[:-10] : fits.getdata('../masks_anika/'+ms) for ms in fls}"
   ]
  },
  {
   "cell_type": "code",
   "execution_count": null,
   "id": "aa35a603",
   "metadata": {},
   "outputs": [],
   "source": [
    "from aplpy import FITSFigure\n",
    "from astropy.io.fits import PrimaryHDU\n",
    "import astropy.units as u\n",
    "\n",
    "import matplotlib as mpl\n",
    "mpl.rcParams['xtick.direction'] = 'in'\n",
    "mpl.rcParams['ytick.direction'] = 'in'"
   ]
  },
  {
   "cell_type": "code",
   "execution_count": null,
   "id": "990da37d",
   "metadata": {},
   "outputs": [],
   "source": [
    "def aplpy_plot(fig= None, data=None, hd=None, cmap='inferno', vmin=9.7, vmax=10.7, colourbar=True, bm_clr='k',\n",
    "               colourbar_text=r'$\\rm{v_{LSR}}\\ (km\\,s^{-1})$', beam_colour='green', fgsz=(7,7), zoom=False, \n",
    "               colourbar_loc='right', scalebar_corner='top right', sbplt=[0, 0, 1, 1], contours=False, \n",
    "               contour_clr='k', background_grey=False, bckgr_gr_clr='0.8', x_bm_lbl=0.07, y_bm_lbl=0.07, \n",
    "               colourscale_stretch='linear', vmid=None) :\n",
    "    \"\"\" \n",
    "    return aplpy FITSfigure for given data\n",
    "    \"\"\"\n",
    "#     if not fig:\n",
    "#         fig = plt.figure(figsize=fgsz)\n",
    "        \n",
    "#     fig = FITSFigure( data=PrimaryHDU(data=data, header=hd), figure=fig, subplot=sbplt)\n",
    "    \n",
    "    if background_grey:\n",
    "        cmap = plt.get_cmap(cmap)\n",
    "        cmap.set_bad(bckgr_gr_clr)\n",
    "    \n",
    "    fig.show_colorscale( cmap=cmap, vmin=vmin, vmax=vmax,stretch=colourscale_stretch, vmid=vmid)\n",
    "    \n",
    "    if colourbar:\n",
    "        fig.add_colorbar()\n",
    "        fig.colorbar.show(location=colourbar_loc, axis_label_text=colourbar_text)\n",
    "    \n",
    "    fig.add_beam(color=beam_colour)\n",
    "    \n",
    "    distance = 302 *u.pc\n",
    "    scale=(0.1*u.pc/distance*u.rad).to(u.deg)\n",
    "#     fig.add_scalebar(scale, label='0.1 pc', corner=scalebar_corner)\n",
    "#     fig.set_nan_color('0.7')\n",
    "    fig.ticks.set_color('black')\n",
    "    fig.add_label( x_bm_lbl, y_bm_lbl, 'B5', relative=True, color= bm_clr, size=15)\n",
    "    \n",
    "#     if contours :\n",
    "#         fig.show_contour(msk_regs['fil1'], colors=[contour_clr], levels=[0])\n",
    "#         fig.show_contour(msk_regs['fil2'], colors=[contour_clr], levels=[0])\n",
    "\n",
    "#         fig.show_contour(msk_regs['cnd1'], colors=[contour_clr], levels=[0], linestyles='dashed')\n",
    "#         fig.show_contour(msk_regs['cnd2'], colors=[contour_clr], levels=[0], linestyles='dashed')\n",
    "#         fig.show_contour(msk_regs['cnd3'], colors=[contour_clr], levels=[0], linestyles='dashed')\n",
    "    \n",
    "    return fig"
   ]
  },
  {
   "cell_type": "code",
   "execution_count": null,
   "id": "7f0c5192",
   "metadata": {},
   "outputs": [],
   "source": []
  },
  {
   "cell_type": "code",
   "execution_count": null,
   "id": "e76cca6e",
   "metadata": {},
   "outputs": [],
   "source": [
    "from astropy.wcs import WCS\n",
    "\n",
    "wcs = WCS(hd_tmb).celestial\n",
    "\n",
    "# ra_nr_blue, dec_nr_blue = wcs.wcs_pix2world(x_nr_red, y_nr_red, 0)"
   ]
  },
  {
   "cell_type": "code",
   "execution_count": null,
   "id": "0607611b",
   "metadata": {},
   "outputs": [],
   "source": [
    "fig_mom0 = FITSFigure(dataFile)\n",
    "\n",
    "fig = aplpy_plot(fig=fig_mom0, cmap='Greys', zoom=True, fgsz=(6,10), vmin=10, vmax=300, colourbar=False, \n",
    "                 background_grey=False, beam_colour='k', contours=True)\n",
    "\n",
    "fig.show_contour(msk_regs['fil1'], colors=['k'], levels=[0])\n",
    "fig.show_contour(msk_regs['fil2'], colors=['k'], levels=[0])\n",
    "\n",
    "fig.recenter(56.918, 32.87, width=0.03, height=0.07)\n",
    "\n",
    "for i in range(1,15):\n",
    "    ra1, dec1 = wcs.wcs_pix2world(x1_spn_fil1[i], y1_spn_fil1[i], 0)\n",
    "    ra2, dec2 = wcs.wcs_pix2world(x2_spn_fil1[i], y2_spn_fil1[i], 0)\n",
    "\n",
    "    iline = np.array([[ra1, ra2],[dec1,dec2]])\n",
    "    if i in [6,9,14] :\n",
    "        fig.show_lines([iline], color = 'r', linewidth=5)\n",
    "    else:\n",
    "        fig.show_lines([iline], color = 'r')\n",
    "    \n",
    "for i in range(1,21):\n",
    "    ra1, dec1 = wcs.wcs_pix2world(x1_spn_fil2[i], y1_spn_fil2[i], 0)\n",
    "    ra2, dec2 = wcs.wcs_pix2world(x2_spn_fil2[i], y2_spn_fil2[i], 0)\n",
    "\n",
    "    iline = np.array([[ra1, ra2],[dec1,dec2]])\n",
    "    if i in [5,10,14] :\n",
    "        fig.show_lines([iline], color = 'r', linewidth=5)\n",
    "    else:\n",
    "        fig.show_lines([iline], color = 'r')\n",
    "    \n",
    "    \n",
    "\n",
    "# fig.savefig('plots/spines-cuts.pdf', dpi=200)"
   ]
  },
  {
   "cell_type": "code",
   "execution_count": null,
   "id": "6f6ec13a",
   "metadata": {},
   "outputs": [],
   "source": []
  },
  {
   "cell_type": "markdown",
   "id": "b4f87e42",
   "metadata": {},
   "source": [
    "#### x- and y-coordinates of the cuts from the end points"
   ]
  },
  {
   "cell_type": "code",
   "execution_count": null,
   "id": "d2a2ad19",
   "metadata": {},
   "outputs": [],
   "source": [
    "def xy_cuts(x1=None, y1=None, x2=None, y2=None, extra_pix=3):\n",
    "    m = (y1 - y2) / (x1 - x2)\n",
    "    \n",
    "    x_arr = 0\n",
    "    y_arr = 0\n",
    "    if abs(m) <= 1 :\n",
    "        x_arr = np.arange(x1-extra_pix, x2+extra_pix,1)\n",
    "        y_arr = y1 + m* (x_arr - x1)\n",
    "    elif abs(m)>1 :\n",
    "        y_arr = np.arange(y1-extra_pix, y2+extra_pix,1)\n",
    "        x_arr = x1 + (y_arr - y1)/m\n",
    "        \n",
    "    xarr_rnd = np.round(x_arr)\n",
    "    yarr_rnd = np.round(y_arr)\n",
    "\n",
    "    x_int = xarr_rnd.astype(int)\n",
    "    y_int = yarr_rnd.astype(int)\n",
    "        \n",
    "    return x_int, y_int"
   ]
  },
  {
   "cell_type": "markdown",
   "id": "a8b19333",
   "metadata": {},
   "source": [
    "##### store the x- and y-coordinates of cuts"
   ]
  },
  {
   "cell_type": "code",
   "execution_count": null,
   "id": "8c1a2661",
   "metadata": {},
   "outputs": [],
   "source": [
    "dict_coords_cut_spn_fil1 = {}\n",
    "\n",
    "for i in range(len(x1_spn_fil1)):\n",
    "    x_ls, y_ls = xy_cuts(x1 = x1_spn_fil1[i], y1 = y1_spn_fil1[i], x2 = x2_spn_fil1[i], y2 = y2_spn_fil1[i], \n",
    "                         extra_pix=3)\n",
    "    \n",
    "    dict_coords_cut_spn_fil1['cut_'+str(i+1)] = [x_ls, y_ls]"
   ]
  },
  {
   "cell_type": "code",
   "execution_count": null,
   "id": "207a787a",
   "metadata": {},
   "outputs": [],
   "source": [
    "dict_coords_cut_spn_fil2 = {}\n",
    "\n",
    "for i in range(len(x1_spn_fil2)):\n",
    "    xarr, yarr = xy_cuts(x1 = x1_spn_fil2[i], y1 = y1_spn_fil2[i], x2 = x2_spn_fil2[i], y2 = y2_spn_fil2[i], \n",
    "                         extra_pix=1)\n",
    "    dict_coords_cut_spn_fil2['cut_'+str(i+1)] = [xarr, yarr]"
   ]
  },
  {
   "cell_type": "code",
   "execution_count": null,
   "id": "722ac01a",
   "metadata": {},
   "outputs": [],
   "source": []
  },
  {
   "cell_type": "code",
   "execution_count": null,
   "id": "3f5bc154",
   "metadata": {},
   "outputs": [],
   "source": [
    "def dict_coords_spine(fila=None, extra_pix=None):\n",
    "    dict_coords = {}\n",
    "    \n",
    "    x1_spn = x1_spn_both[fila-1]\n",
    "    y1_spn = y1_spn_both[fila-1]\n",
    "    x2_spn = x2_spn_both[fila-1]\n",
    "    y2_spn = y2_spn_both[fila-1]\n",
    "    \n",
    "    for i in range(len(x1_spn)):\n",
    "        xarr, yarr = xy_cuts(x1 = x1_spn[i], y1 = y1_spn[i], x2 = x2_spn[i], y2 = y2_spn[i], extra_pix=extra_pix)\n",
    "        dict_coords['cut_'+str(i+1)] = [xarr, yarr]\n",
    "        \n",
    "    return dict_coords"
   ]
  },
  {
   "cell_type": "code",
   "execution_count": null,
   "id": "a8cdb944",
   "metadata": {},
   "outputs": [],
   "source": []
  },
  {
   "cell_type": "markdown",
   "id": "5c116bf3",
   "metadata": {},
   "source": [
    "###### calculate distance from centre"
   ]
  },
  {
   "cell_type": "code",
   "execution_count": null,
   "id": "8d4c21a8",
   "metadata": {},
   "outputs": [],
   "source": [
    "def calc_dist(x_cent=None, y_cent=None, x_pos=None, y_pos=None, with_sign=False):\n",
    "    del_x = x_cent - x_pos\n",
    "    del_y = y_cent - y_pos\n",
    "    \n",
    "    dist = np.sqrt(del_x**2 + del_y**2)\n",
    "    \n",
    "    sign=1\n",
    "    \n",
    "    if with_sign:\n",
    "        \n",
    "        xmin = np.min(x_pos)\n",
    "        xmax = np.max(x_pos)\n",
    "        ymin = np.min(y_pos)\n",
    "        ymax = np.max(y_pos)\n",
    "          \n",
    "        xdiff = xmax - xmin\n",
    "        ydiff = ymax - ymin\n",
    "        \n",
    "        if xdiff > ydiff :\n",
    "            sign = del_x/abs(del_x)\n",
    "        elif ydiff > xdiff :\n",
    "            sign = del_y/abs(del_y)\n",
    "            \n",
    "    return dist*sign"
   ]
  },
  {
   "cell_type": "code",
   "execution_count": null,
   "id": "513a7e1a",
   "metadata": {},
   "outputs": [],
   "source": []
  },
  {
   "cell_type": "code",
   "execution_count": null,
   "id": "e0ff63f8",
   "metadata": {},
   "outputs": [],
   "source": [
    "def dict_dist_frm_cent(fila=None, dict_coords_cut=None, centre_spine=None):\n",
    "    \n",
    "    dict_dist = {}\n",
    "    \n",
    "    for i in range(len(dict_coords_cut)):\n",
    "        dict_dist['cut_'+str(i+1)] = calc_dist(x_cent=centre_spine[i][0], y_cent=centre_spine[i][1], \n",
    "                                               x_pos=dict_coords_cut['cut_'+str(i+1)][0], \n",
    "                                               y_pos=dict_coords_cut['cut_'+str(i+1)][1], with_sign=True)\n",
    "        \n",
    "    return dict_dist"
   ]
  },
  {
   "cell_type": "code",
   "execution_count": null,
   "id": "c684c06e",
   "metadata": {},
   "outputs": [],
   "source": []
  },
  {
   "cell_type": "code",
   "execution_count": null,
   "id": "4dd2d67e",
   "metadata": {},
   "outputs": [],
   "source": []
  },
  {
   "cell_type": "markdown",
   "id": "2004dbea",
   "metadata": {},
   "source": [
    "### extended velocity"
   ]
  },
  {
   "cell_type": "code",
   "execution_count": null,
   "id": "4d385585",
   "metadata": {},
   "outputs": [],
   "source": [
    "vel_ext = fits.getdata('sorted_comps/vel_extended.fits')"
   ]
  },
  {
   "cell_type": "code",
   "execution_count": null,
   "id": "88dff2a1",
   "metadata": {},
   "outputs": [],
   "source": []
  },
  {
   "cell_type": "markdown",
   "id": "aae63235",
   "metadata": {},
   "source": [
    "### wrapper to plot parameter across filament cuts"
   ]
  },
  {
   "cell_type": "code",
   "execution_count": null,
   "id": "a5d493de",
   "metadata": {},
   "outputs": [],
   "source": [
    "def plot_ortho_cut(param=None, extra_pix=None, fila=1, new_ax=True, c='b', ax=None, ret_cuts=False, \n",
    "                   print_cut_num=False, marker_size=30, \n",
    "                   plot_cut_bound=False, colour_cut_bound='k', plot_cut_cent=False, colour_cut_cent='r', \n",
    "                   print_cv=False, x_axis_phys=False, plot_sel_cuts=False, sel_cuts=None, print_delv=False):\n",
    "    \n",
    "    centre_spine = cent_spn_both[fila-1]\n",
    "    dict_coords = dict_coords_spine(fila=fila, extra_pix=extra_pix)\n",
    "    dict_dist = dict_dist_frm_cent(fila=fila, dict_coords_cut=dict_coords, centre_spine=centre_spine)\n",
    "    \n",
    "    if ret_cuts:\n",
    "        return dict_coords\n",
    "    \n",
    "    if new_ax:\n",
    "        if fila == 1:\n",
    "            fig, ax = plt.subplots(nrows=3, ncols=4, figsize=(16,9))\n",
    "        elif fila == 2:\n",
    "            fig, ax = plt.subplots(nrows=4, ncols=4, figsize=(16,12))\n",
    "            \n",
    "    ax_flat = ax.flat\n",
    "    \n",
    "    if plot_sel_cuts:\n",
    "        plot_range = sel_cuts\n",
    "    else : \n",
    "        plot_range = range(len(centre_spine))\n",
    "    \n",
    "    k = 0\n",
    "    \n",
    "    for i in plot_range:\n",
    "        \n",
    "        axs = ax_flat[k]\n",
    "        \n",
    "        xi, yi = dict_coords['cut_'+str(i+1)]\n",
    "        dist_i = dict_dist['cut_'+str(i+1)]\n",
    "        \n",
    "        if x_axis_phys :\n",
    "            dist_i = dist_i * pix_len\n",
    "\n",
    "        param_list = [param[yi[j], xi[j]] for j in range(len(xi))]\n",
    "\n",
    "        #axs.plot(dist_i, param_list, c+'.')\n",
    "        axs.scatter(dist_i, param_list, color=c, s=marker_size)#+'.')\n",
    "        \n",
    "        if print_cut_num:\n",
    "            axs.text(0.1,0.9, 'cut = ' + str(i+1), horizontalalignment='left', transform=axs.transAxes)\n",
    "        \n",
    "#         print(plot_cut_bound)\n",
    "        \n",
    "        if plot_cut_bound :\n",
    "            end_x1, end_y1 = x1_spn_both[fila-1][i], y1_spn_both[fila-1][i]\n",
    "            end_x2, end_y2 = x2_spn_both[fila-1][i], y2_spn_both[fila-1][i]\n",
    "            \n",
    "            dist1 = calc_dist(x_cent=centre_spine[i][0], y_cent=centre_spine[i][1], x_pos=end_x1, y_pos=end_y1, \n",
    "                              with_sign=True)\n",
    "            dist2 = calc_dist(x_cent=centre_spine[i][0], y_cent=centre_spine[i][1], x_pos=end_x2, y_pos=end_y2, \n",
    "                              with_sign=True)\n",
    "            \n",
    "            if x_axis_phys:\n",
    "                dist1 = dist1 * pix_len\n",
    "                dist2 = dist2 * pix_len\n",
    "                \n",
    "            axs.axvline(x=dist1*-1, ls=':', c=colour_cut_bound)\n",
    "            axs.axvline(x=dist2, ls=':', c=colour_cut_bound)\n",
    "            \n",
    "        if plot_cut_cent :\n",
    "            axs.axvline(x=0, ls=':', c=colour_cut_cent)\n",
    "            \n",
    "            \n",
    "        if print_cv :\n",
    "            vel1 = param[int(np.round(end_y1)), int(np.round(end_x1))]\n",
    "            vel2 = param[int(np.round(end_y2)), int(np.round(end_x2))]\n",
    "\n",
    "            del_v = np.abs(vel1 - vel2)\n",
    "\n",
    "            cv = calc_cv_chen(del_v=del_v, ML=ML_both[fila-1][i])\n",
    "            \n",
    "            axs.text(0.05, 0.9, r'$C_v = $' + str(np.round(cv, 4)), \n",
    "                     horizontalalignment='left', transform=axs.transAxes)\n",
    "\n",
    "        if print_delv :\n",
    "            vel1 = param[int(np.round(end_y1)), int(np.round(end_x1))]\n",
    "            vel2 = param[int(np.round(end_y2)), int(np.round(end_x2))]\n",
    "\n",
    "            del_v = np.abs(vel1 - vel2)/2\n",
    "\n",
    "            delv_cv_1 = del_v_for_cv_1(ML_both[fila-1][i])\n",
    "            \n",
    "            axs.text(0.45, 0.9, r'$\\Delta v = $' + str(np.round(del_v, 2)) + r'$km\\,s^{-1}$', \n",
    "                     horizontalalignment='right', transform=axs.transAxes)\n",
    "            axs.text(0.45, 0.85, r'$\\Delta v_{C_v = 1} = $' + str(np.round(delv_cv_1, 2)) + r'$km\\,s^{-1}$', \n",
    "                     horizontalalignment='right', transform=axs.transAxes)\n",
    "\n",
    "            \n",
    "        k += 1"
   ]
  },
  {
   "cell_type": "code",
   "execution_count": null,
   "id": "e762c411",
   "metadata": {},
   "outputs": [],
   "source": []
  },
  {
   "cell_type": "code",
   "execution_count": null,
   "id": "c4b60a9b",
   "metadata": {},
   "outputs": [],
   "source": []
  },
  {
   "cell_type": "markdown",
   "id": "c2d0f018",
   "metadata": {},
   "source": [
    "### Column density from intensity of $\\rm NH_3$ (1,1)"
   ]
  },
  {
   "cell_type": "code",
   "execution_count": null,
   "id": "fe208800",
   "metadata": {},
   "outputs": [],
   "source": [
    "mom0_11 = fits.getdata(data_dir + 'nh3_11_whole_8as_3px_mom0_w-model.fits')"
   ]
  },
  {
   "cell_type": "markdown",
   "id": "66bc9cb3",
   "metadata": {},
   "source": [
    "### convert to mass in the filaments (as Schmiedeke et al., 2021, page 6)"
   ]
  },
  {
   "cell_type": "code",
   "execution_count": null,
   "id": "da0544cc",
   "metadata": {},
   "outputs": [],
   "source": [
    "mom0_11_fil1 = mom0_11 * fil1mask\n",
    "mom0_11_fil2 = mom0_11 * fil2mask\n",
    "\n",
    "mom0_11_fil1[mom0_11_fil1 == 0] = np.nan\n",
    "mom0_11_fil2[mom0_11_fil2 == 0] = np.nan"
   ]
  },
  {
   "cell_type": "code",
   "execution_count": null,
   "id": "7d77e194",
   "metadata": {},
   "outputs": [],
   "source": [
    "# subtract background\n",
    "\n",
    "mom0_bgsub_fil1 = mom0_11_fil1 - np.nanmin(mom0_11_fil1)\n",
    "mom0_bgsub_fil2 = mom0_11_fil2 - np.nanmin(mom0_11_fil2)"
   ]
  },
  {
   "cell_type": "code",
   "execution_count": null,
   "id": "acab2626",
   "metadata": {},
   "outputs": [],
   "source": [
    "# Convert K km/s to Jy/beam km/s\n",
    "\n",
    "from radio_beam import Beam"
   ]
  },
  {
   "cell_type": "code",
   "execution_count": null,
   "id": "1aad51a5",
   "metadata": {},
   "outputs": [],
   "source": [
    "my_beam = Beam.from_fits_header(hd_tmb)\n",
    "\n",
    "# restfrq = hd_tmb['restfrq'] * u.Hz\n",
    "\n",
    "restfrq = 23694495500 * u.Hz\n",
    "\n",
    "jybm2K = (1*u.Jy).to(u.K, u.brightness_temperature(restfrq, my_beam)).value\n",
    "\n",
    "K2jybm = 1./jybm2K"
   ]
  },
  {
   "cell_type": "code",
   "execution_count": null,
   "id": "09344e7a",
   "metadata": {},
   "outputs": [],
   "source": [
    "# convert beam to pixel\n",
    "\n",
    "# beam area\n",
    "\n",
    "bmaj = hd_tmb['bmaj']*u.deg\n",
    "bmin = hd_tmb['bmin']*u.deg\n",
    "\n",
    "beamArea = np.pi / (4.0 * np.log(2)) * bmaj.to(u.arcsec) * bmin.to(u.arcsec)\n",
    "\n",
    "# pixel area\n",
    "\n",
    "xPixSize = abs(hd_tmb['cdelt1']) * u.degree\n",
    "xPixSize = xPixSize.to(u.arcsec)\n",
    "pixelArea = (xPixSize ** 2)\n",
    "\n",
    "pixel2beam = pixelArea.value / beamArea.value\n",
    "beam2pixel = 1 / pixel2beam\n",
    "\n",
    "#\n",
    "# Kelvin conversion factors\n",
    "\n",
    "\n",
    "equiv = u.brightness_temperature(restfrq)\n",
    "\n",
    "jybeam2kelvin = ((1* u.Jy/beamArea).to(u.K, equivalencies=equiv)).value\n",
    "kelvin2jybeam = 1 / jybeam2kelvin"
   ]
  },
  {
   "cell_type": "code",
   "execution_count": null,
   "id": "15eb6e79",
   "metadata": {},
   "outputs": [],
   "source": [
    "mom0_11_jy = mom0_11 * K2jybm * pixel2beam"
   ]
  },
  {
   "cell_type": "code",
   "execution_count": 3,
   "id": "e79975ca",
   "metadata": {},
   "outputs": [],
   "source": [
    "# Intensity to mass\n",
    "\n",
    "mass_fil1 = mom0_bgsub_fil1 * K2jybm * pixel2beam * 1.5\n",
    "mass_fil2 = mom0_bgsub_fil2 * K2jybm * pixel2beam * 1.5"
   ]
  },
  {
   "cell_type": "code",
   "execution_count": null,
   "id": "6d944deb",
   "metadata": {},
   "outputs": [],
   "source": [
    "# Pixel length\n",
    "\n",
    "pix_len = (xPixSize.to(u.radian) * 302).value"
   ]
  },
  {
   "cell_type": "markdown",
   "id": "86fa0f79",
   "metadata": {},
   "source": [
    "#### M/L in each cut"
   ]
  },
  {
   "cell_type": "code",
   "execution_count": null,
   "id": "9028cda4",
   "metadata": {},
   "outputs": [],
   "source": [
    "MpL_fil1 = []\n",
    "\n",
    "for i in range(len(x1_spn_fil1)):\n",
    "    \n",
    "    xarr, yarr = xy_cuts(x1 = x1_spn_fil1[i], y1 = y1_spn_fil1[i], x2 = x2_spn_fil1[i], y2 = y2_spn_fil1[i], \n",
    "                         extra_pix=1)\n",
    "    \n",
    "    mom0_cut = mom0_11_jy[yarr, xarr]\n",
    "    mom0_cut_bgsub = mom0_cut - 0.0028\n",
    "    ms = np.nansum(mom0_cut_bgsub * 1.5)\n",
    "    \n",
    "    MpL_fil1.append((ms/pix_len))"
   ]
  },
  {
   "cell_type": "code",
   "execution_count": null,
   "id": "35ef6bbb",
   "metadata": {},
   "outputs": [],
   "source": [
    "MpL_fil2 = []\n",
    "\n",
    "for i in range(len(x1_spn_fil2)):\n",
    "    \n",
    "    xarr, yarr = xy_cuts(x1 = x1_spn_fil2[i], y1 = y1_spn_fil2[i], x2 = x2_spn_fil2[i], y2 = y2_spn_fil2[i], \n",
    "                         extra_pix=0)\n",
    "    \n",
    "    mom0_cut = mom0_11_jy[yarr, xarr]\n",
    "    mom0_cut_bgsub = mom0_cut - 0.00266\n",
    "    ms = np.nansum(mom0_cut_bgsub * 1.5)\n",
    "\n",
    "    MpL_fil2.append((ms/pix_len))"
   ]
  },
  {
   "cell_type": "code",
   "execution_count": null,
   "id": "0fbe5d9e",
   "metadata": {},
   "outputs": [],
   "source": [
    "ML_both = [MpL_fil1, MpL_fil2]"
   ]
  },
  {
   "cell_type": "code",
   "execution_count": null,
   "id": "46a9ec16",
   "metadata": {},
   "outputs": [],
   "source": []
  },
  {
   "cell_type": "code",
   "execution_count": null,
   "id": "19daa518",
   "metadata": {},
   "outputs": [],
   "source": []
  },
  {
   "cell_type": "markdown",
   "id": "bea01fe3",
   "metadata": {},
   "source": [
    "### Calculate $\\rm{C_v}$"
   ]
  },
  {
   "cell_type": "code",
   "execution_count": null,
   "id": "018486fe",
   "metadata": {},
   "outputs": [],
   "source": []
  },
  {
   "cell_type": "code",
   "execution_count": null,
   "id": "692380cc",
   "metadata": {},
   "outputs": [],
   "source": [
    "import scipy.constants as c\n",
    "\n",
    "def calc_cv_chen(del_v=None, ML=None, ret_err=False, edel_v=None):\n",
    "    \n",
    "    numer = (del_v*1000/2.0)**2\n",
    "    denom = (c.G) * ML * (2e30) * (c.parsec)**-1\n",
    "    \n",
    "    val = numer/denom\n",
    "\n",
    "    if ret_err:\n",
    "    \n",
    "        ecv = ( np.sqrt(4 * (edel_v/del_v)**2 + (0.7/1.5)**2 ))  *val\n",
    "        return ecv\n",
    "    else :\n",
    "        return val"
   ]
  },
  {
   "cell_type": "markdown",
   "id": "6e9af6e7",
   "metadata": {},
   "source": [
    "#### calculate $\\rm{\\Delta v_h}$ required to have $\\rm{C_v} = 1$"
   ]
  },
  {
   "cell_type": "code",
   "execution_count": null,
   "id": "7dd18d09",
   "metadata": {},
   "outputs": [],
   "source": [
    "def del_v_for_cv_1(ML=None):\n",
    "    \n",
    "    del_v*1000/2.0\n",
    "    denom = (c.G) * ML * (2e30) * (c.parsec)**-1\n",
    "    \n",
    "    delv = np.sqrt(denom)\n",
    "    \n",
    "    delv_kms = delv/1000\n",
    "    \n",
    "    return delv_kms"
   ]
  },
  {
   "cell_type": "code",
   "execution_count": null,
   "id": "27759961",
   "metadata": {},
   "outputs": [],
   "source": []
  },
  {
   "cell_type": "code",
   "execution_count": null,
   "id": "e4fc059c",
   "metadata": {},
   "outputs": [],
   "source": []
  },
  {
   "cell_type": "markdown",
   "id": "aa6d5ff2",
   "metadata": {},
   "source": [
    "### Plot velocity gradient in orthogonal cuts"
   ]
  },
  {
   "cell_type": "code",
   "execution_count": null,
   "id": "3cbdb296",
   "metadata": {},
   "outputs": [],
   "source": [
    "fig, ax = plt.subplots(nrows=4, ncols=4, figsize=(16,12))\n",
    "\n",
    "plot_ortho_cut(param=vel_ext, extra_pix=20, fila=1, ax=ax, new_ax=False, marker_size=10, \n",
    "               plot_cut_bound=True, plot_cut_cent=True, print_delv=True, x_axis_phys=True, plot_sel_cuts=True, sel_cuts=range(1,15))\n",
    "# plot_ortho_cut(param=vel_faint, extra_pix=20, fila=1, c='r', ax=ax, new_ax=False, marker_size=10)\n",
    "\n",
    "for i in range (4):\n",
    "    ax[i,0].set_ylabel(r'$v_{los}\\ (km\\,s^{-1})$', labelpad=10)\n",
    "#     ax[3,i].set_xlabel('distance from spine (pc)', labelpad=15)\n",
    "    \n",
    "# ax[2,2].set_xlabel('distance from spine (pc)', labelpad=15)\n",
    "# ax[2,3].set_xlabel('distance from spine (pc)', labelpad=15)\n",
    "\n",
    "fig.supxlabel('distance from spine (pc)', size='xx-large')\n",
    "\n",
    "ax[3,2].set_visible(False)\n",
    "ax[3,3].set_visible(False)\n",
    "    \n",
    "plt.tight_layout()\n",
    "\n",
    "\n",
    "# fig.savefig('plots/vel_grad_w_cv_fila_1_all.pdf')"
   ]
  },
  {
   "cell_type": "code",
   "execution_count": null,
   "id": "4723590b",
   "metadata": {},
   "outputs": [],
   "source": [
    "fig, ax = plt.subplots(nrows=4, ncols=5, figsize=(20,13))\n",
    "\n",
    "plot_ortho_cut(param=vel_ext, extra_pix=16, fila=2, ax=ax, new_ax=False, marker_size=10, \n",
    "               plot_cut_bound=True, plot_cut_cent=True, print_delv=True, x_axis_phys=True, plot_sel_cuts=True, sel_cuts=range(1,21))\n",
    "# plot_ortho_cut(param=vel_faint, extra_pix=20, fila=1, c='r', ax=ax, new_ax=False, marker_size=10)\n",
    "\n",
    "for i in range (4):\n",
    "    ax[i,0].set_ylabel(r'$v_{los}\\ (km\\,s^{-1})$', labelpad=10)\n",
    "#     ax[3,i].set_xlabel('offset from centre (pc)', labelpad=15)\n",
    "\n",
    "# ax[3,4].set_xlabel('offset from centre (pc)', labelpad=15)\n",
    "\n",
    "fig.supxlabel('distance from spine (pc)', size='xx-large')\n",
    "\n",
    "# ax[3,2].set_visible(False)\n",
    "# ax[3,3].set_visible(False)\n",
    "    \n",
    "plt.tight_layout()\n",
    "\n",
    "# fig.savefig('plots/vel_grad_w_cv_fila_2_all.pdf')"
   ]
  },
  {
   "cell_type": "markdown",
   "id": "d7004a0c",
   "metadata": {},
   "source": [
    "#### Sample cuts for the main text"
   ]
  },
  {
   "cell_type": "code",
   "execution_count": null,
   "id": "fbfd4419",
   "metadata": {},
   "outputs": [],
   "source": [
    "fig, ax = plt.subplots(nrows=1, ncols=3, figsize=(12,3))\n",
    "\n",
    "plot_ortho_cut(param=vel_ext, extra_pix=20, fila=1, ax=ax, new_ax=False, marker_size=10, \n",
    "               plot_cut_bound=True, plot_cut_cent=True, print_delv=True, x_axis_phys=True, \n",
    "               plot_sel_cuts=True, sel_cuts=[6, 9, 14])\n",
    "# plot_ortho_cut(param=vel_faint, extra_pix=20, fila=1, c='r', ax=ax, new_ax=False, marker_size=10)\n",
    "\n",
    "ax[0].set_ylabel(r'$v_{los}\\ (km\\,s^{-1})$', labelpad=10)\n",
    "# ax[1].set_xlabel('offset from centre (pc)', labelpad=15)\n",
    "\n",
    "fig.supxlabel('distance from spine (pc)', size='xx-large')\n",
    "\n",
    "plt.tight_layout()\n",
    "\n",
    "\n",
    "# fig.savefig('plots/vel_grad_w_cv_fila_1_sample.pdf')"
   ]
  },
  {
   "cell_type": "code",
   "execution_count": null,
   "id": "cfbb7e3a",
   "metadata": {},
   "outputs": [],
   "source": [
    "fig, ax = plt.subplots(nrows=1, ncols=3, figsize=(12,3))\n",
    "\n",
    "plot_ortho_cut(param=vel_ext, extra_pix=16, fila=2, ax=ax, new_ax=False, marker_size=10, \n",
    "               plot_cut_bound=True, plot_cut_cent=True, print_delv=True, x_axis_phys=True, plot_sel_cuts=True, sel_cuts=[5,10,14])\n",
    "# plot_ortho_cut(param=vel_faint, extra_pix=20, fila=1, c='r', ax=ax, new_ax=False, marker_size=10)\n",
    "\n",
    "ax[0].set_ylabel(r'$v_{los}\\ (km\\,s^{-1})$', labelpad=10)\n",
    "# ax[1].set_xlabel('offset from centre (pc)', labelpad=15)\n",
    "\n",
    "fig.supxlabel('distance from spine (pc)', size='xx-large')\n",
    "\n",
    "plt.tight_layout()\n",
    "\n",
    "# fig.savefig('plots/vel_grad_w_cv_fila_2_sample.pdf')"
   ]
  },
  {
   "cell_type": "code",
   "execution_count": null,
   "id": "8eb7b835",
   "metadata": {},
   "outputs": [],
   "source": []
  },
  {
   "cell_type": "markdown",
   "id": "6e7a1419",
   "metadata": {},
   "source": [
    "### Plot distribution of $\\rm{C_v}$"
   ]
  },
  {
   "cell_type": "markdown",
   "id": "e7a499bb",
   "metadata": {},
   "source": [
    "##### Make list of the $\\rm{C_v}$ values"
   ]
  },
  {
   "cell_type": "code",
   "execution_count": null,
   "id": "328554f7",
   "metadata": {},
   "outputs": [],
   "source": [
    "fila=1\n",
    "\n",
    "cv_list_fil1 = []\n",
    "ecv_list_fil1 = []\n",
    "\n",
    "for i in range(len(cent_spn_both[fila-1])):\n",
    "    end_x1, end_y1 = x1_spn_both[fila-1][i], y1_spn_both[fila-1][i]\n",
    "    end_x2, end_y2 = x2_spn_both[fila-1][i], y2_spn_both[fila-1][i]\n",
    "    \n",
    "    \n",
    "    \n",
    "    vel1 = vel_bright[int(np.round(end_y1)), int(np.round(end_x1))]\n",
    "    vel2 = vel_bright[int(np.round(end_y2)), int(np.round(end_x2))]\n",
    "    \n",
    "    del_v = np.abs(vel1 - vel2)\n",
    "    \n",
    "    evel1 = evel_bright[int(np.round(end_y1)), int(np.round(end_x1))]\n",
    "    evel2 = evel_bright[int(np.round(end_y2)), int(np.round(end_x2))]\n",
    "    \n",
    "    edel_v = evel1 + evel2\n",
    "    \n",
    "    cv = calc_cv_chen(del_v=del_v, ML=ML_both[fila-1][i])\n",
    "    ecv = calc_cv_chen(del_v=del_v, ML=ML_both[fila-1][i], ret_err=True, edel_v=edel_v)\n",
    "    \n",
    "#     print(edel_v)\n",
    "    \n",
    "    cv_list_fil1.append(cv)\n",
    "    ecv_list_fil1.append(ecv)\n",
    "    \n",
    "#     print(end_x1)"
   ]
  },
  {
   "cell_type": "code",
   "execution_count": null,
   "id": "6cbe8def",
   "metadata": {},
   "outputs": [],
   "source": [
    "fila=2\n",
    "\n",
    "cv_list_fil2 = []\n",
    "ecv_list_fil2 = []\n",
    "\n",
    "for i in range(len(cent_spn_both[fila-1])):\n",
    "    end_x1, end_y1 = x1_spn_both[fila-1][i], y1_spn_both[fila-1][i]\n",
    "    end_x2, end_y2 = x2_spn_both[fila-1][i], y2_spn_both[fila-1][i]\n",
    "    \n",
    "    \n",
    "    \n",
    "#     vel1 = vel_bright[int(np.round(end_y1)), int(np.round(end_x1))]\n",
    "#     vel2 = vel_bright[int(np.round(end_y2)), int(np.round(end_x2))]\n",
    "    vel1 = vel_ext[int(np.round(end_y1)), int(np.round(end_x1))]\n",
    "    vel2 = vel_ext[int(np.round(end_y2)), int(np.round(end_x2))]\n",
    "    \n",
    "    del_v = np.abs(vel1 - vel2)\n",
    "    \n",
    "    evel1 = evel_bright[int(np.round(end_y1)), int(np.round(end_x1))]\n",
    "    evel2 = evel_bright[int(np.round(end_y2)), int(np.round(end_x2))]\n",
    "    \n",
    "    edel_v = evel1 + evel2\n",
    "    \n",
    "    cv = calc_cv_chen(del_v=del_v, ML=ML_both[fila-1][i])\n",
    "    ecv = calc_cv_chen(del_v=del_v, ML=ML_both[fila-1][i], ret_err=True, edel_v=edel_v)\n",
    "    \n",
    "#     print(edel_v)\n",
    "    \n",
    "    cv_list_fil2.append(cv)\n",
    "    ecv_list_fil2.append(ecv)\n",
    "    \n",
    "#     print(end_x1)"
   ]
  },
  {
   "cell_type": "code",
   "execution_count": null,
   "id": "75e25c58",
   "metadata": {},
   "outputs": [],
   "source": []
  },
  {
   "cell_type": "markdown",
   "id": "e5795020",
   "metadata": {},
   "source": [
    "#### KDE"
   ]
  },
  {
   "cell_type": "code",
   "execution_count": null,
   "id": "2c088279",
   "metadata": {},
   "outputs": [],
   "source": [
    "from scipy.stats import gaussian_kde"
   ]
  },
  {
   "cell_type": "code",
   "execution_count": null,
   "id": "e1a82b20",
   "metadata": {},
   "outputs": [],
   "source": [
    "cv_list_combi = cv_list_fil1 + cv_list_fil2\n",
    "ecv_list_combi = ecv_list_fil1 + ecv_list_fil2"
   ]
  },
  {
   "cell_type": "code",
   "execution_count": null,
   "id": "ecfe3165",
   "metadata": {},
   "outputs": [],
   "source": [
    "cv_min = -0.001\n",
    "cv_max = 0.055\n",
    "\n",
    "x_grid = np.linspace(cv_min,cv_max, 100)"
   ]
  },
  {
   "cell_type": "code",
   "execution_count": null,
   "id": "510b2f3e",
   "metadata": {},
   "outputs": [],
   "source": [
    "kde_w_weight = gaussian_kde(cv_list_combi, weights=np.asarray(ecv_list_combi))\n",
    "kde_wo_weight = gaussian_kde(cv_list_combi)\n",
    "\n",
    "pdf_w_weight = kde_w_weight.evaluate(x_grid)\n",
    "pdf_wo_weight = kde_wo_weight.evaluate(x_grid)\n",
    "\n",
    "eh = kde_w_weight(x_grid)"
   ]
  },
  {
   "cell_type": "code",
   "execution_count": null,
   "id": "7b790b9a",
   "metadata": {},
   "outputs": [],
   "source": [
    "plt.plot(x_grid, pdf_w_weight, color='blue', alpha=0.5, lw=3)\n",
    "\n",
    "plt.xlabel(r'$C_v$')\n",
    "plt.ylabel('density', labelpad=5)\n",
    "\n",
    "plt.xticks(np.arange(0, cv_max, 0.01))\n",
    "\n",
    "plt.tight_layout()\n",
    "\n",
    "plt.savefig('plots/kde_cv_both_fila.pdf')"
   ]
  },
  {
   "cell_type": "code",
   "execution_count": null,
   "id": "15b3d1cb",
   "metadata": {},
   "outputs": [],
   "source": []
  }
 ],
 "metadata": {
  "kernelspec": {
   "display_name": "Python 3 (ipykernel)",
   "language": "python",
   "name": "python3"
  },
  "language_info": {
   "codemirror_mode": {
    "name": "ipython",
    "version": 3
   },
   "file_extension": ".py",
   "mimetype": "text/x-python",
   "name": "python",
   "nbconvert_exporter": "python",
   "pygments_lexer": "ipython3",
   "version": "3.9.13"
  }
 },
 "nbformat": 4,
 "nbformat_minor": 5
}
