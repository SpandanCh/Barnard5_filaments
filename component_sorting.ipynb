{
 "cells": [
  {
   "cell_type": "code",
   "execution_count": 1,
   "id": "e4484c24",
   "metadata": {},
   "outputs": [],
   "source": [
    "import numpy as np\n",
    "from astropy.io import fits"
   ]
  },
  {
   "cell_type": "code",
   "execution_count": 2,
   "id": "766c3f73",
   "metadata": {},
   "outputs": [],
   "source": [
    "def dist_ar(xc=None, yc=None):\n",
    "    \"\"\"\n",
    "    returns a 2D array with distance to each pixel from a custom centre pixel, (xc, yc)\n",
    "    \"\"\"\n",
    "    d_ar = np.zeros(npeaks.shape)\n",
    "    for i in range(d_ar.shape[0]):\n",
    "        for j in range(d_ar.shape[1]):\n",
    "            d_ar[i,j] = np.hypot(xc - j, yc - i)\n",
    "        \n",
    "    return d_ar"
   ]
  },
  {
   "cell_type": "code",
   "execution_count": null,
   "id": "c37f10ee",
   "metadata": {},
   "outputs": [],
   "source": []
  },
  {
   "cell_type": "markdown",
   "id": "026a78fd",
   "metadata": {},
   "source": [
    "### Parameter distance \n",
    "#### $dp = \\sqrt{\\left( w_{\\rm v} \\times \\frac{\\rm \\Delta v_{LSR}}{\\rm v_{norm}} \\right)^2 + \\left( (1 - w_{\\rm v}) \\times \\frac{\\rm \\Delta T_{TM}}{\\rm T_{MB,norm}} \\right)^2}$"
   ]
  },
  {
   "cell_type": "code",
   "execution_count": 3,
   "id": "6bd40fc5",
   "metadata": {},
   "outputs": [],
   "source": [
    "def para_dist(v1=None, v2=None, tmb1=None, tmb2=None, vel_norm=0.3, tmb_norm=3, w_vel=0.5):\n",
    "    \"\"\"\n",
    "    returns normalised combined 'distance' in velocity and T_MB\n",
    "    \n",
    "    v1, v2 : velocities of the two pixels\n",
    "    tmb1, tmb2 : main beam brightness temperatures of the two pixels\n",
    "    \n",
    "    vel_norm : normalisation factor for difference in velocities\n",
    "    tmb_norm : normalisation factor for difference in T_MB\n",
    "    \n",
    "    w_vel : weight for velocity 'distance'. T_MB diff gets weight (1-w)\n",
    "    \"\"\"\n",
    "    \n",
    "    vl_dist = np.abs((v1 - v2) / vel_norm)\n",
    "    tmb_dist = np.abs((tmb1 - tmb2) / tmb_norm)\n",
    "    \n",
    "    dist = np.hypot(vl_dist*w_vel, (1-w_vel)*tmb_dist)\n",
    "    \n",
    "    return dist"
   ]
  },
  {
   "cell_type": "markdown",
   "id": "c6456c23",
   "metadata": {},
   "source": [
    "### Aplpy plots"
   ]
  },
  {
   "cell_type": "code",
   "execution_count": null,
   "id": "53fdbada",
   "metadata": {},
   "outputs": [],
   "source": [
    "from aplpy import FITSFigure\n",
    "from astropy.io.fits import PrimaryHDU\n",
    "import astropy.units as u\n",
    "\n",
    "import matplotlib as mpl\n",
    "mpl.rcParams['xtick.direction'] = 'in'\n",
    "mpl.rcParams['ytick.direction'] = 'in'"
   ]
  },
  {
   "cell_type": "code",
   "execution_count": null,
   "id": "17ff8b71",
   "metadata": {},
   "outputs": [],
   "source": [
    "def aplpy_plot(fig= None, data=None, hd=None, cmap='inferno', vmin=9.7, vmax=10.7, colourbar=True, bm_clr='k',\n",
    "               colourbar_text=r'$\\rm{v_{LSR}}\\ (km\\,s^{-1})$', beam_colour='green', fgsz=(7,7), zoom=False, \n",
    "               colourbar_loc='right', scalebar_corner='top right', sbplt=[0, 0, 1, 1], contours=False, \n",
    "               contour_clr='k', background_grey=False, bckgr_gr_clr='0.8', x_bm_lbl=0.07, y_bm_lbl=0.07, \n",
    "               colourscale_stretch='linear', vmid=None) :\n",
    "    \"\"\" \n",
    "    return aplpy FITSfigure for given data\n",
    "    \"\"\"\n",
    "    if not fig:\n",
    "        fig = plt.figure(figsize=fgsz)\n",
    "        \n",
    "    fig = FITSFigure( data=PrimaryHDU(data=data, header=hd), figure=fig, subplot=sbplt)\n",
    "    \n",
    "    if background_grey:\n",
    "        cmap = plt.get_cmap(cmap)\n",
    "        cmap.set_bad(bckgr_gr_clr)\n",
    "    \n",
    "    fig.show_colorscale( cmap=cmap, vmin=vmin, vmax=vmax,stretch=colourscale_stretch, vmid=vmid)\n",
    "    \n",
    "    if colourbar:\n",
    "        fig.add_colorbar()\n",
    "        fig.colorbar.show(location=colourbar_loc, axis_label_text=colourbar_text)\n",
    "    \n",
    "    fig.add_beam(color=beam_colour)\n",
    "    \n",
    "    distance = 302 *u.pc\n",
    "    scale=(0.1*u.pc/distance*u.rad).to(u.deg)\n",
    "    fig.add_scalebar(scale, label='0.1 pc', corner=scalebar_corner)\n",
    "#     fig.set_nan_color('0.7')\n",
    "    fig.ticks.set_color('black')\n",
    "    fig.add_label( x_bm_lbl, y_bm_lbl, 'B5', relative=True, color= bm_clr, size=15)\n",
    "    \n",
    "    if zoom:\n",
    "        fig.recenter(56.914, 32.879, width=0.13, height=0.138)\n",
    "        \n",
    "    if contours :\n",
    "        fig.show_contour(msk_regs['fil1'], colors=[contour_clr], levels=[0])\n",
    "        fig.show_contour(msk_regs['fil2'], colors=[contour_clr], levels=[0])\n",
    "\n",
    "        fig.show_contour(msk_regs['cnd1'], colors=[contour_clr], levels=[0], linestyles='dashed')\n",
    "        fig.show_contour(msk_regs['cnd2'], colors=[contour_clr], levels=[0], linestyles='dashed')\n",
    "        fig.show_contour(msk_regs['cnd3'], colors=[contour_clr], levels=[0], linestyles='dashed')\n",
    "    \n",
    "    return fig"
   ]
  },
  {
   "cell_type": "code",
   "execution_count": null,
   "id": "7d4ad80e",
   "metadata": {},
   "outputs": [],
   "source": []
  },
  {
   "cell_type": "markdown",
   "id": "5a8bf85d",
   "metadata": {},
   "source": [
    "### read in master arrays"
   ]
  },
  {
   "cell_type": "markdown",
   "id": "0292c0a0",
   "metadata": {},
   "source": [
    "##### * The velocity, velocity dispersion and the $T_{MB}$ for all components are stored in the arrays 'vel_master', 'sig_master', and 'tmb_master' (without any prior sorting)\n",
    "##### * Both arrays have shapes (3, y, x). Each pixels have 3 values, corresponding to the velocity (or $T_{MB}$) of the 3 components in that pixel. The second (and third) values are NaNs where the pixels have only two (or one) components"
   ]
  },
  {
   "cell_type": "code",
   "execution_count": null,
   "id": "fc3956f8",
   "metadata": {},
   "outputs": [],
   "source": [
    "vel_master = fits.getdata('para_hypercubes/vel_3cmp_master.fits')\n",
    "sig_master = fits.getdata('para_hypercubes/sig_3cmp_master.fits')\n",
    "tmb_master = fits.getdata('para_hypercubes/tmb_3cmp_master.fits')"
   ]
  },
  {
   "cell_type": "markdown",
   "id": "8c52f2f3",
   "metadata": {},
   "source": [
    "### sort the different components based on the combined parameter distance"
   ]
  },
  {
   "cell_type": "code",
   "execution_count": 1,
   "id": "c327444d",
   "metadata": {},
   "outputs": [],
   "source": [
    "def sort_nearest_neighbour(x_start=None, y_start=None, mask=None, rad_asign=1.0, **kargs):\n",
    "    \n",
    "    \"\"\"\n",
    "    sorts the parameter maps based on combined parametric distance \n",
    "    \n",
    "    \n",
    "    inputs:\n",
    "    x_start, y_start : co-ordinates of the pixel to start the sorting         ; required\n",
    "    mask             : mask within which to do the sorting                    ; optional\n",
    "    rad_assign.      : radius (in pix) to define the neighbourhood of a pixel ; default is 1\n",
    "    \n",
    "    further inputs can be passed into para_dist\n",
    "    \n",
    "    outputs :\n",
    "    vel_sig_tmb_1, vel_sig_tmb_2, vel_sig_tmb_3 : arrays with shapes (3,:,:), corresponding to the component \n",
    "                                                  which is kinematically coherent in the largest extent, and the \n",
    "                                                  remaining components (which is to be sorted further), respectively\n",
    "                                                  \n",
    "                                                  each pixel in each of these arrays has three values, the velocity, \n",
    "                                                  velocity dispersion and T_MB at that pixel, for the corresponding \n",
    "                                                  copmponent\n",
    "            \n",
    "    \"\"\"\n",
    "    \n",
    "    # create arrays to store the components after sorting\n",
    "  \n",
    "    vel_sig_tmb_1 = np.ones((3,)+ npeaks.shape) * np.nan\n",
    "    vel_sig_tmb_2 = np.ones((3,)+ npeaks.shape) * np.nan\n",
    "    vel_sig_tmb_3 = np.ones((3,)+ npeaks.shape) * np.nan\n",
    "    \n",
    "    # assign the velocity, velocity dispersion and T_MB at the starting pixel\n",
    "    \n",
    "    vel_sig_tmb_1[:,y_start, x_start] = [vel_master[0, y_start, x_start], sig_master[0, y_start, x_start], \n",
    "                                       tmb_master[0, y_start, x_start]]\n",
    "    \n",
    "    # create distance array with the reference as the starting pixel : \n",
    "    # the value at each pixel is the distance to that pixel from the reference\n",
    "    \n",
    "    dist_to_pixels = dist_ar(xc=x_start, yc=y_start)\n",
    "    \n",
    "    # apply mask if provided, if not apply a basic mask, to ensure no pixel without a good fit is tried\n",
    "    \n",
    "    try:\n",
    "        y_list, x_list = np.where(mask)\n",
    "    except :\n",
    "        y_list, x_list = np.where(tmb_master[0, :, :] > 0)\n",
    "    \n",
    "    # distance to pixels within the mask\n",
    "    dist_1d_array = dist_to_pixels[y_list, x_list]\n",
    "    \n",
    "    # sort the indices of the distance array in increasing order\n",
    "    sorted_index = np.argsort(dist_1d_array)\n",
    "    \n",
    "    \"\"\"\n",
    "    The sorting is done in the following steps :\n",
    "     1. Start from the starting pixel, go to the next pixel in order of distance from the starting pixel, \n",
    "        and continue in this order\n",
    "     \n",
    "     2. Calculate the mean velocity and Tmb within the radius provided in input. In the first iteration, \n",
    "        this is just the velocity and Tmb of the starting pixel\n",
    "       \n",
    "     3. Calculate the parameter distances for all three components with respect to the mean velocity and Tmb \n",
    "        calculated above\n",
    "        \n",
    "     4. Sort the component with the minimum parameter distance to the first array, \n",
    "        and the other two components (if present) to the other two arrays. \n",
    "    \"\"\"\n",
    "    for indx in sorted_index:\n",
    "        \n",
    "        xi, yi = x_list[indx], y_list[indx]\n",
    "        dist_i = dist_ar(xc=xi, yc=yi)\n",
    "        gd_idx = np.where(dist_i <= rad_asign)           \n",
    "        \n",
    "        vel_1_all = vel_sig_tmb_1[0, :, :]\n",
    "        tmb_1_all = vel_sig_tmb_1[2, :, :]\n",
    "\n",
    "        # calculate mean refgerence values for assigmnent\n",
    "        vel_1_mean = np.nanmean(vel_1_all[gd_idx])\n",
    "        tmb_1_mean = np.nanmean(tmb_1_all[gd_idx])\n",
    "        \n",
    "        para_dist_1 = para_dist(v1=vel_master[0, yi, xi], tmb1=tmb_master[0, yi, xi], \n",
    "                                v2=vel_1_mean, tmb2=tmb_1_mean, **kargs)\n",
    "        para_dist_2 = para_dist(v1=vel_master[1, yi, xi], tmb1=tmb_master[1, yi, xi], \n",
    "                                v2=vel_1_mean, tmb2=tmb_1_mean, **kargs)\n",
    "        para_dist_3 = para_dist(v1=vel_master[2, yi, xi], tmb1=tmb_master[2, yi, xi], \n",
    "                                v2=vel_1_mean, tmb2=tmb_1_mean, **kargs)\n",
    "        \n",
    "        para_dist_min = np.nanmin([para_dist_1, para_dist_2, para_dist_3])\n",
    "        \n",
    "        if para_dist_1 == para_dist_min:\n",
    "            vel_sig_tmb_1[:, yi, xi] = [vel_master[0, yi, xi], sig_master[0, yi, xi], tmb_master[0, yi, xi]]\n",
    "            vel_sig_tmb_2[:, yi, xi] = [vel_master[1, yi, xi], sig_master[1, yi, xi], tmb_master[1, yi, xi]]\n",
    "            vel_sig_tmb_3[:, yi, xi] = [vel_master[2, yi, xi], sig_master[2, yi, xi], tmb_master[2, yi, xi]]\n",
    "            \n",
    "        elif para_dist_2 == para_dist_min:\n",
    "            vel_sig_tmb_1[:, yi, xi] = [vel_master[1, yi, xi], sig_master[1, yi, xi], tmb_master[1, yi, xi]]\n",
    "            vel_sig_tmb_2[:, yi, xi] = [vel_master[2, yi, xi], sig_master[2, yi, xi], tmb_master[2, yi, xi]]\n",
    "            vel_sig_tmb_3[:, yi, xi] = [vel_master[0, yi, xi], sig_master[0, yi, xi], tmb_master[0, yi, xi]]\n",
    "            \n",
    "        elif para_dist_3 == para_dist_min:\n",
    "\n",
    "            vel_sig_tmb_1[:, yi, xi] = [vel_master[2, yi, xi], sig_master[2, yi, xi], tmb_master[2, yi, xi]]\n",
    "            vel_sig_tmb_2[:, yi, xi] = [vel_master[0, yi, xi], sig_master[0, yi, xi], tmb_master[0, yi, xi]]\n",
    "            vel_sig_tmb_3[:, yi, xi] = [vel_master[1, yi, xi], sig_master[1, yi, xi], tmb_master[1, yi, xi]]\n",
    "        \n",
    "    return vel_sig_tmb_1, vel_sig_tmb_2, vel_sig_tmb_3"
   ]
  },
  {
   "cell_type": "code",
   "execution_count": null,
   "id": "29153758",
   "metadata": {},
   "outputs": [],
   "source": []
  },
  {
   "cell_type": "markdown",
   "id": "32411deb",
   "metadata": {},
   "source": [
    "## sort the components"
   ]
  },
  {
   "cell_type": "code",
   "execution_count": null,
   "id": "93082374",
   "metadata": {},
   "outputs": [],
   "source": [
    "# arr1 corresponds to `component 1' in the paper\n",
    "\n",
    "# starting pixel is selected from a region with only one component, for clear component assignment\n",
    "\n",
    "arr1, arr2, arr3 = sort_nearest_neighbour_v2(x_start=77, y_start=115, w_vel=0.5, rad_asign=2, \n",
    "                                             vel_norm=1, tmb_norm=7.5)"
   ]
  },
  {
   "cell_type": "code",
   "execution_count": null,
   "id": "0c12e6c3",
   "metadata": {},
   "outputs": [],
   "source": [
    "fits.writeto('sorted_comps/first_sort_vel-sig-tmb_extended.fits', arr1_1, hd_3_para, overwrite=True)\n",
    "fits.writeto('sorted_comps/first_sort_vel-sig-tmb_extra-1.fits', arr2_1, hd_3_para, overwrite=True)\n",
    "fits.writeto('sorted_comps/first_sort_vel-sig-tmb_extra-2.fits', arr3_1, hd_3_para, overwrite=True)"
   ]
  },
  {
   "cell_type": "code",
   "execution_count": null,
   "id": "2ee486f1",
   "metadata": {},
   "outputs": [],
   "source": [
    "# arr1 = fits.getdata('sorted_comps/first_sort_vel-sig-tmb_extended.fits')\n",
    "# arr2 = fits.getdata('sorted_comps/first_sort_vel-sig-tmb_extra-1.fits')\n",
    "# arr3 = fits.getdata('sorted_comps/first_sort_vel-sig-tmb_extra-2.fits')"
   ]
  },
  {
   "cell_type": "code",
   "execution_count": null,
   "id": "0655b740",
   "metadata": {},
   "outputs": [],
   "source": []
  },
  {
   "cell_type": "code",
   "execution_count": null,
   "id": "9b42f56d",
   "metadata": {},
   "outputs": [],
   "source": [
    "vel_ext = arr1[0]*(snr>4)\n",
    "vel_ext[vel_ext == 0] = np.nan\n",
    "\n",
    "fig = aplpy_plot(data=vel_ext, hd=hd2d, cmap='RdYlBu_r', zoom=True, fgsz=(6,10), contours=True, background_grey=True)"
   ]
  },
  {
   "cell_type": "markdown",
   "id": "9238eb91",
   "metadata": {},
   "source": [
    "### Sort the additional components into four velocity coherent components : \n",
    "#### deep red, red, blue, deep blue "
   ]
  },
  {
   "cell_type": "code",
   "execution_count": 1,
   "id": "8d8882fa",
   "metadata": {},
   "outputs": [],
   "source": [
    "def comp_sort_into_4_vel_cut(vel_sig_tmb_ar_1=None, vel_sig_tmb_ar_2=None, \n",
    "                             vel_cut_low=9.7, vel_cut_mid=10.15, vel_cut_high=40.4, \n",
    "                             ret_num_of_comp_per_pixel=False) :\n",
    "    \n",
    "    sort_ar_1 = np.ones(vel_sig_tmb_ar_1.shape)*np.nan\n",
    "    sort_ar_2 = np.ones(vel_sig_tmb_ar_1.shape)*np.nan\n",
    "    sort_ar_3 = np.ones(vel_sig_tmb_ar_1.shape)*np.nan\n",
    "    sort_ar_4 = np.ones(vel_sig_tmb_ar_1.shape)*np.nan\n",
    "    \n",
    "    ar_num_comp_1 = np.zeros(vel_sig_tmb_ar_1.shape[1:])\n",
    "    ar_num_comp_2 = np.zeros(vel_sig_tmb_ar_1.shape[1:])\n",
    "    ar_num_comp_3 = np.zeros(vel_sig_tmb_ar_1.shape[1:])\n",
    "    ar_num_comp_4 = np.zeros(vel_sig_tmb_ar_1.shape[1:])\n",
    "    \n",
    "    \n",
    "    \n",
    "    for i in range(sort_ar_1.shape[1]):\n",
    "        for j in range(sort_ar_1.shape[2]):\n",
    "            \n",
    "#             if vel_cut_from_map:\n",
    "#                 vel_cut = vel_map_ref[i,j]\n",
    "                \n",
    "            if vel_sig_tmb_ar_1[0, i, j] < vel_cut_low :\n",
    "                sort_ar_1[:, i, j] = vel_sig_tmb_ar_1[:, i, j]\n",
    "                ar_num_comp_1[i,j] += 1\n",
    "            elif vel_sig_tmb_ar_1[0, i, j] > vel_cut_low and vel_sig_tmb_ar_1[0, i, j] < vel_cut_mid :\n",
    "                sort_ar_2[:, i, j] = vel_sig_tmb_ar_1[:, i, j]\n",
    "                ar_num_comp_2[i,j] += 1\n",
    "            elif vel_sig_tmb_ar_1[0, i, j] >vel_cut_mid and vel_sig_tmb_ar_1[0, i, j] < vel_cut_high :\n",
    "                sort_ar_3[:, i, j] = vel_sig_tmb_ar_1[:, i, j]\n",
    "                ar_num_comp_3[i,j] += 1\n",
    "            elif vel_sig_tmb_ar_1[0, i, j] > vel_cut_high:\n",
    "                sort_ar_4[:, i, j] = vel_sig_tmb_ar_1[:, i, j]\n",
    "                ar_num_comp_4[i,j] += 1\n",
    "                \n",
    "            if vel_sig_tmb_ar_2[0, i, j] < vel_cut_low :\n",
    "                sort_ar_1[:, i, j] = vel_sig_tmb_ar_2[:, i, j]\n",
    "                ar_num_comp_1[i,j] += 1\n",
    "            elif vel_sig_tmb_ar_2[0, i, j] > vel_cut_low and vel_sig_tmb_ar_2[0, i, j] < vel_cut_mid :\n",
    "                sort_ar_2[:, i, j] = vel_sig_tmb_ar_2[:, i, j]\n",
    "                ar_num_comp_2[i,j] += 1\n",
    "            elif vel_sig_tmb_ar_2[0, i, j] >vel_cut_mid and vel_sig_tmb_ar_2[0, i, j] < vel_cut_high :\n",
    "                sort_ar_3[:, i, j] = vel_sig_tmb_ar_2[:, i, j]\n",
    "                ar_num_comp_3[i,j] += 1\n",
    "            elif vel_sig_tmb_ar_2[0, i, j] > vel_cut_high:\n",
    "                sort_ar_4[:, i, j] = vel_sig_tmb_ar_2[:, i, j]\n",
    "                ar_num_comp_4[i,j] += 1\n",
    "    \n",
    "    if ret_num_of_comp_per_pixel:\n",
    "        return ar_num_comp_1, ar_num_comp_2, ar_num_comp_3, ar_num_comp_4\n",
    "    \n",
    "    return sort_ar_1, sort_ar_2, sort_ar_3, sort_ar_4"
   ]
  },
  {
   "cell_type": "code",
   "execution_count": null,
   "id": "77b2bed7",
   "metadata": {},
   "outputs": [],
   "source": [
    "# three velocity cuts to separate the four components : these velocities are selected through visual inspection\n",
    "v1 = 9.8\n",
    "v2 = 10.13\n",
    "v3 = 10.5\n",
    "\n",
    "dark_blue_arr, mid_blue_arr, mid_red_arr, dark_red_arr = comp_sort_into_4_vel_cut(vel_sig_tmb_ar_1=arr2, \n",
    "                                                                                  vel_sig_tmb_ar_2=arr3, \n",
    "                                                                                  vel_cut_low=v1, vel_cut_mid=v2, \n",
    "                                                                                  vel_cut_high=v3)"
   ]
  },
  {
   "cell_type": "code",
   "execution_count": null,
   "id": "a3cbe237",
   "metadata": {},
   "outputs": [],
   "source": [
    "fits.writeto('sorted_comps/dark_blue_vel-sig-tmb.fits', dark_blue_arr, hd_3_para, overwrite=True)\n",
    "fits.writeto('sorted_comps/mid_blue_vel-sig-tmb.fits', mid_blue_arr, hd_3_para, overwrite=True)\n",
    "fits.writeto('sorted_comps/mid_red_vel-sig-tmb.fits', mid_red_arr, hd_3_para, overwrite=True)\n",
    "fits.writeto('sorted_comps/dark_red_vel-sig-tmb.fits', dark_red_arr, hd_3_para, overwrite=True)"
   ]
  },
  {
   "cell_type": "code",
   "execution_count": null,
   "id": "ba40bfff",
   "metadata": {},
   "outputs": [],
   "source": [
    "fig = plt.figure(figsize=(6,9))\n",
    "\n",
    "fig1 = aplpy_plot(fig=fig, data=dark_blue_arr[0], hd=hd2d, cmap='RdYlBu_r', zoom=True, sbplt=[0.12, 0.5, 0.4, 0.4], \n",
    "                  colourbar=False, vmin=9.7, vmax=10.7, contours=True, background_grey=True, y_bm_lbl=0.1)\n",
    "\n",
    "fig1.tick_labels.hide_x()\n",
    "fig1.axis_labels.hide()\n",
    "\n",
    "\n",
    "fig2 = aplpy_plot(fig=fig, data=mid_blue_arr[0], hd=hd2d, cmap='RdYlBu_r', zoom=True, sbplt=[0.55, 0.5, 0.4, 0.4], \n",
    "                  colourbar=False, vmin=9.7, vmax=10.7, contours=True, background_grey=True, y_bm_lbl=0.1)\n",
    "fig2.tick_labels.hide()\n",
    "fig2.axis_labels.hide()\n",
    "\n",
    "fig3 = aplpy_plot(fig=fig, data=mid_red_arr[0], hd=hd2d, cmap='RdYlBu_r', zoom=True, sbplt=[0.12, 0.07, 0.4, 0.4], \n",
    "                  colourbar=False, vmin=9.7, vmax=10.7, contours=True, background_grey=True, y_bm_lbl=0.1)\n",
    "fig3.axis_labels.hide_y()\n",
    "\n",
    "fig4 = aplpy_plot(fig=fig, data=dark_red_arr[0], hd=hd2d, cmap='RdYlBu_r', zoom=True, sbplt=[0.55, 0.07, 0.4, 0.4], \n",
    "                  colourbar=False, vmin=9.7, vmax=10.7, contours=True, background_grey=True, y_bm_lbl=0.1)\n",
    "fig4.tick_labels.hide_y()\n",
    "fig4.axis_labels.hide_y()\n",
    "\n",
    "fig1.recenter(56.907, 32.8833, width=0.07, height=0.11)\n",
    "fig2.recenter(56.907, 32.8833, width=0.07, height=0.11)\n",
    "fig3.recenter(56.907, 32.8833, width=0.07, height=0.11)\n",
    "fig4.recenter(56.907, 32.8833, width=0.07, height=0.11)\n",
    "\n",
    "\n",
    "fig1.add_label( 0.8, 0.85, 'far-blue', relative=True, color='b', size=15, weight=500)\n",
    "fig2.add_label( 0.8, 0.85, 'mid-blue', relative=True, color='dodgerblue', size=15, weight=500)\n",
    "fig3.add_label( 0.8, 0.85, 'mid-red', relative=True, color='#ef6548', size=15, weight=500)\n",
    "fig4.add_label( 0.8, 0.85, 'far-red', relative=True, color='r', size=15, weight=500)"
   ]
  },
  {
   "cell_type": "code",
   "execution_count": null,
   "id": "ff0a8f04",
   "metadata": {},
   "outputs": [],
   "source": []
  },
  {
   "cell_type": "markdown",
   "id": "55a29d8f",
   "metadata": {},
   "source": [
    "### Additional : show histograms of the additional components (sort_3cmp)"
   ]
  },
  {
   "cell_type": "markdown",
   "id": "78e9621e",
   "metadata": {},
   "source": [
    "### Additional : show 2d KDE of the additional components (sort_3cmp)"
   ]
  },
  {
   "cell_type": "code",
   "execution_count": null,
   "id": "683180bb",
   "metadata": {},
   "outputs": [],
   "source": []
  }
 ],
 "metadata": {
  "kernelspec": {
   "display_name": "Python 3 (ipykernel)",
   "language": "python",
   "name": "python3"
  },
  "language_info": {
   "codemirror_mode": {
    "name": "ipython",
    "version": 3
   },
   "file_extension": ".py",
   "mimetype": "text/x-python",
   "name": "python",
   "nbconvert_exporter": "python",
   "pygments_lexer": "ipython3",
   "version": "3.9.13"
  }
 },
 "nbformat": 4,
 "nbformat_minor": 5
}
