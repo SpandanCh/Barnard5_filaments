{
 "cells": [
  {
   "cell_type": "code",
   "execution_count": 1,
   "id": "4a332c79",
   "metadata": {},
   "outputs": [],
   "source": [
    "import numpy as np\n",
    "import astropy.units as u"
   ]
  },
  {
   "cell_type": "code",
   "execution_count": null,
   "id": "c14fb12e",
   "metadata": {},
   "outputs": [],
   "source": []
  },
  {
   "cell_type": "code",
   "execution_count": 2,
   "id": "b0215e58",
   "metadata": {},
   "outputs": [],
   "source": [
    "def infall_rate(diam=None, leng=None, del_v=None, n_dens=None, mu=2.37):\n",
    "\n",
    "    rad = diam/2.0\n",
    "    \n",
    "    del_v_ms = del_v*1000\n",
    "    \n",
    "    area = 2 * np.pi * (rad *u.pc).to(u.m)*(leng*u.pc).to(u.m)\n",
    "\n",
    "    n_cc = n_dens/u.cm/u.cm/u.cm\n",
    "    n_m3 = n_cc.to(1/u.m/u.m/u.m)\n",
    "    rho = n_m3 * mu * (1*u.M_p).to(u.kg)\n",
    "\n",
    "    infall = area*rho*(del_v_ms*u.m/u.s)\n",
    "    inf_yr = infall*(1*u.year).to(u.s)\n",
    "    inf_msol_yr = inf_yr/((1*u.M_sun).to(u.kg))\n",
    "    \n",
    "    return inf_msol_yr"
   ]
  },
  {
   "cell_type": "markdown",
   "id": "437edbd3",
   "metadata": {},
   "source": [
    "### Calculate filament volume"
   ]
  },
  {
   "cell_type": "code",
   "execution_count": 3,
   "id": "232a8bdb",
   "metadata": {},
   "outputs": [],
   "source": [
    "def vol_fila(diam=None, leng=None):\n",
    "\n",
    "    rad = diam/2.0\n",
    "    \n",
    "    vol = np.pi * ((rad *u.pc).to(u.cm))* (rad *u.pc).to(u.cm) * (leng*u.pc).to(u.cm)\n",
    "    \n",
    "    return vol"
   ]
  },
  {
   "cell_type": "code",
   "execution_count": 4,
   "id": "aaf1f9ee",
   "metadata": {},
   "outputs": [],
   "source": [
    "def fila_dens(vol=None, mass=None, mu=2.38):\n",
    "    \n",
    "    m = mass * 2e30\n",
    "    num = m/(mu*1.67e-27)\n",
    "    \n",
    "    dens = num/vol\n",
    "    \n",
    "    return dens"
   ]
  },
  {
   "cell_type": "code",
   "execution_count": null,
   "id": "9f2630d4",
   "metadata": {},
   "outputs": [],
   "source": []
  },
  {
   "cell_type": "code",
   "execution_count": 5,
   "id": "ed29b577",
   "metadata": {},
   "outputs": [
    {
     "data": {
      "text/latex": [
       "$348475.16 \\; \\mathrm{\\frac{1}{cm^{3}}}$"
      ],
      "text/plain": [
       "<Quantity 348475.15938961 1 / cm3>"
      ]
     },
     "execution_count": 5,
     "metadata": {},
     "output_type": "execute_result"
    }
   ],
   "source": [
    "vol1 = vol_fila(diam=0.05, leng=0.2)\n",
    "fila_dens(vol=vol1, mass=9.4, mu=2.8)"
   ]
  },
  {
   "cell_type": "code",
   "execution_count": 6,
   "id": "79efaf05",
   "metadata": {},
   "outputs": [
    {
     "data": {
      "text/latex": [
       "$245678.76 \\; \\mathrm{\\frac{1}{cm^{3}}}$"
      ],
      "text/plain": [
       "<Quantity 245678.76422232 1 / cm3>"
      ]
     },
     "execution_count": 6,
     "metadata": {},
     "output_type": "execute_result"
    }
   ],
   "source": [
    "vol2_1 = vol_fila(diam=0.07, leng=0.14)\n",
    "vol2_2 = vol_fila(diam=0.05, leng=0.13)\n",
    "\n",
    "vol2 = vol2_1 + vol2_2\n",
    "\n",
    "fila_dens(vol=vol2, mass=13.4, mu=2.8)"
   ]
  },
  {
   "cell_type": "code",
   "execution_count": null,
   "id": "3441920d",
   "metadata": {},
   "outputs": [],
   "source": []
  }
 ],
 "metadata": {
  "kernelspec": {
   "display_name": "Python 3 (ipykernel)",
   "language": "python",
   "name": "python3"
  },
  "language_info": {
   "codemirror_mode": {
    "name": "ipython",
    "version": 3
   },
   "file_extension": ".py",
   "mimetype": "text/x-python",
   "name": "python",
   "nbconvert_exporter": "python",
   "pygments_lexer": "ipython3",
   "version": "3.10.9"
  }
 },
 "nbformat": 4,
 "nbformat_minor": 5
}
