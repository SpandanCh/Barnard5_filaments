{
 "cells": [
  {
   "cell_type": "code",
   "execution_count": null,
   "id": "2c6744d9",
   "metadata": {},
   "outputs": [],
   "source": [
    "import numpy as np\n",
    "import matplotlib.pyplot as plt\n",
    "from astropy.io import fits\n",
    "import pyspeckit\n",
    "\n",
    "from matplotlib.colors import ListedColormap"
   ]
  },
  {
   "cell_type": "code",
   "execution_count": null,
   "id": "a441b486",
   "metadata": {},
   "outputs": [],
   "source": []
  },
  {
   "cell_type": "markdown",
   "id": "6c02d861",
   "metadata": {},
   "source": [
    "## Read data files"
   ]
  },
  {
   "cell_type": "code",
   "execution_count": null,
   "id": "28be4752",
   "metadata": {},
   "outputs": [],
   "source": [
    "nh3_11, hd_amm = fits.getdata('datacubes/nh3_11_whole_cube_8as_3px.fits', header=True)\n",
    "npeaks, hd2d = fits.getdata('bayesian_fit_files/npeaks_cut5.fits', header=True)\n",
    "snr = fits.getdata('bayesian_fit_files/snr11.fits')"
   ]
  },
  {
   "cell_type": "code",
   "execution_count": null,
   "id": "d6f51e8a",
   "metadata": {},
   "outputs": [],
   "source": []
  },
  {
   "cell_type": "markdown",
   "id": "f9994fb4",
   "metadata": {},
   "source": [
    "#### Area masks"
   ]
  },
  {
   "cell_type": "code",
   "execution_count": null,
   "id": "290382ca",
   "metadata": {},
   "outputs": [],
   "source": [
    "from os import listdir\n",
    "\n",
    "fls = listdir('data_files_prev_works/masks_anika')\n",
    "fls = [i for i in fls if 'rgrd.fits' in i]\n",
    "\n",
    "msk_regs = {ms[:-10] : fits.getdata('data_files_prev_works/masks_anika/'+ms) for ms in fls}"
   ]
  },
  {
   "cell_type": "code",
   "execution_count": null,
   "id": "a93aa320",
   "metadata": {},
   "outputs": [],
   "source": []
  },
  {
   "cell_type": "markdown",
   "id": "ad8cf991",
   "metadata": {},
   "source": [
    "### Aplpy plots"
   ]
  },
  {
   "cell_type": "code",
   "execution_count": null,
   "id": "49c4e68e",
   "metadata": {},
   "outputs": [],
   "source": [
    "from aplpy import FITSFigure\n",
    "from astropy.io.fits import PrimaryHDU\n",
    "import astropy.units as u\n",
    "\n",
    "import matplotlib as mpl\n",
    "mpl.rcParams['xtick.direction'] = 'in'\n",
    "mpl.rcParams['ytick.direction'] = 'in'"
   ]
  },
  {
   "cell_type": "code",
   "execution_count": null,
   "id": "bad5e024",
   "metadata": {},
   "outputs": [],
   "source": [
    "def aplpy_plot(fig= None, data=None, hd=None, cmap='inferno', vmin=9.7, vmax=10.7, colourbar=True, bm_clr='k',\n",
    "               colourbar_text=r'$\\rm{v_{LSR}}\\ (km\\,s^{-1})$', beam_colour='green', fgsz=(7,7), zoom=False, \n",
    "               colourbar_loc='right', scalebar_corner='top right', sbplt=[0, 0, 1, 1], contours=False, \n",
    "               contour_clr='k', background_grey=False, bckgr_gr_clr='0.8', x_bm_lbl=0.07, y_bm_lbl=0.07, \n",
    "               colourscale_stretch='linear', vmid=None) :\n",
    "    \"\"\" \n",
    "    return aplpy FITSfigure for given data\n",
    "    \"\"\"\n",
    "    if not fig:\n",
    "        fig = plt.figure(figsize=fgsz)\n",
    "        \n",
    "    fig = FITSFigure( data=PrimaryHDU(data=data, header=hd), figure=fig, subplot=sbplt)\n",
    "    \n",
    "    if background_grey:\n",
    "        cmap = plt.get_cmap(cmap)\n",
    "        cmap.set_bad(bckgr_gr_clr)\n",
    "    \n",
    "    fig.show_colorscale( cmap=cmap, vmin=vmin, vmax=vmax,stretch=colourscale_stretch, vmid=vmid)\n",
    "    \n",
    "    if colourbar:\n",
    "        fig.add_colorbar()\n",
    "        fig.colorbar.show(location=colourbar_loc, axis_label_text=colourbar_text)\n",
    "    \n",
    "    fig.add_beam(color=beam_colour)\n",
    "    \n",
    "    distance = 302 *u.pc\n",
    "    scale=(0.1*u.pc/distance*u.rad).to(u.deg)\n",
    "    fig.add_scalebar(scale, label='0.1 pc', corner=scalebar_corner)\n",
    "#     fig.set_nan_color('0.7')\n",
    "    fig.ticks.set_color('black')\n",
    "    fig.add_label( x_bm_lbl, y_bm_lbl, 'B5', relative=True, color= bm_clr, size=15)\n",
    "    \n",
    "    if zoom:\n",
    "        fig.recenter(56.914, 32.879, width=0.13, height=0.138)\n",
    "        \n",
    "    if contours :\n",
    "        fig.show_contour(msk_regs['fil1'], colors=[contour_clr], levels=[0])\n",
    "        fig.show_contour(msk_regs['fil2'], colors=[contour_clr], levels=[0])\n",
    "\n",
    "        fig.show_contour(msk_regs['cnd1'], colors=[contour_clr], levels=[0], linestyles='dashed')\n",
    "        fig.show_contour(msk_regs['cnd2'], colors=[contour_clr], levels=[0], linestyles='dashed')\n",
    "        fig.show_contour(msk_regs['cnd3'], colors=[contour_clr], levels=[0], linestyles='dashed')\n",
    "    \n",
    "    return fig"
   ]
  },
  {
   "cell_type": "code",
   "execution_count": null,
   "id": "85d99c6d",
   "metadata": {},
   "outputs": [],
   "source": []
  },
  {
   "cell_type": "markdown",
   "id": "d6a6d16b",
   "metadata": {},
   "source": [
    "### calculate simple moment 0"
   ]
  },
  {
   "cell_type": "code",
   "execution_count": null,
   "id": "92a73b00",
   "metadata": {},
   "outputs": [],
   "source": [
    "sum_11 = np.nansum(nh3_11, axis=0)\n",
    "\n",
    "dv_ms = (hd_amm['CDELT3']/hd_amm['CRVAL3']) * 299792458\n",
    "dv_kms = dv_ms/1000\n",
    "\n",
    "integ_inten = sum_11 * dv_kms.value\n",
    "\n",
    "integ_inten[integ_inten == 0] = np.nan"
   ]
  },
  {
   "cell_type": "code",
   "execution_count": null,
   "id": "bb1f7085",
   "metadata": {},
   "outputs": [],
   "source": []
  },
  {
   "cell_type": "code",
   "execution_count": null,
   "id": "89f07659",
   "metadata": {},
   "outputs": [],
   "source": [
    "fig = aplpy_plot(data=integ_inten, hd=hd2d, cmap='inferno', zoom=True, fgsz=(6,10), vmin=0, vmax=15, contours=True, \n",
    "                 contour_clr='k', background_grey=True, colourbar_text=r'Integrated Intensity (K km$\\,s^{-1}$)', \n",
    "                 colourscale_stretch='log', vmid=-2, bckgr_gr_clr='0.5')\n",
    "\n",
    "fig.show_contour('data_files_prev_works/coherent_core_bound_SD.fits', levels=[0.5], colors='w')\n",
    "\n",
    "\n",
    "fig.show_arrows(56.92, 32.92, 0.02, 0.002, width=0.3, head_width=2, head_length=2, color='w')\n",
    "fig.add_label( 0.18, 0.82, 'clump-1', relative=True, color='w',size=13, weight=1000, horizontalalignment='left')\n",
    "\n",
    "fig.add_label( 0.44, 0.65, 'Fil-1', relative=True, color='w',size=13, weight=1000, rotation=70, \n",
    "              horizontalalignment='left')\n",
    "fig.add_label( 0.52, 0.28, 'Fil-2', relative=True, color='w',size=13, weight=1000, horizontalalignment='left')\n",
    "\n",
    "\n",
    "fig.show_arrows(56.915, 32.873, -0.02, 0.006, width=0.3, head_width=2, head_length=2, color='w')\n",
    "fig.add_label( 0.63, 0.5, 'cond-1', relative=True, color='w',size=13, weight=1000, horizontalalignment='left')\n",
    "fig.show_arrows(56.925, 32.868, 0.02, 0.006, width=0.3, head_width=2, head_length=2, color='w')\n",
    "fig.add_label( 0.26, 0.479, 'cond-2', relative=True, color='w',size=13, weight=1000)\n",
    "fig.show_arrows(56.927, 32.858, 0.02, -0.003, width=0.3, head_width=2, head_length=2, color='w')\n",
    "fig.add_label( 0.25, 0.3, 'cond-3', relative=True, color='w',size=13, weight=1000)\n",
    "\n",
    "# fig.show_arrows(56.92, 32.92, 0.025, 0.002, width=0.3, head_width=2, head_length=2, color='w')\n",
    "\n",
    "\n",
    "fig.savefig('plots/mom0_sel-chan_w-labels.pdf', dpi=1000)"
   ]
  },
  {
   "cell_type": "code",
   "execution_count": null,
   "id": "b187bbf4",
   "metadata": {},
   "outputs": [],
   "source": []
  },
  {
   "cell_type": "markdown",
   "id": "b39bcc29",
   "metadata": {},
   "source": [
    "### Show example spectra with 2, 3 component fits"
   ]
  },
  {
   "cell_type": "code",
   "execution_count": null,
   "id": "4bf6738e",
   "metadata": {},
   "outputs": [],
   "source": [
    "from astropy.wcs import WCS\n",
    "wcs = WCS(hd2d)\n",
    "\n",
    "from matplotlib.patches import Circle"
   ]
  },
  {
   "cell_type": "code",
   "execution_count": null,
   "id": "b01756c0",
   "metadata": {},
   "outputs": [],
   "source": [
    "xlist = np.array([115, 125, 94])\n",
    "ylist = np.array([73, 59, 94])\n",
    "labels = np.array([1, 2, 3])\n",
    "\n",
    "dxlist = np.array([30, 15, -40])\n",
    "dylist = np.array([10, -40, 20])\n",
    "ra_list, dec_list = wcs.all_pix2world(xlist, ylist, 0)\n",
    "ra_list_text, dec_list_text = wcs.all_pix2world(xlist + dxlist, ylist + dylist, 0)\n",
    "dra_list = ra_list - ra_list_text\n",
    "ddec_list = dec_list - dec_list_text"
   ]
  },
  {
   "cell_type": "code",
   "execution_count": null,
   "id": "70ef427b",
   "metadata": {},
   "outputs": [],
   "source": [
    "cmaplst = ['#f0f9e8', '#ccebc5', '#7bccc4', '#2b8cbe'] #['#f0f9e8', '#7bccc4', '#43a2ca', '#0868ac'] #['#f1f7d2', '#7fcdbb', '#2c7fb8']  # stolen from colorbrewer2\n",
    "lcmap = ListedColormap(cmaplst)\n",
    "lcmap.set_bad('#f0f0f0')\n",
    "\n",
    "npeaks_snr5 = npeaks.copy()\n",
    "npeaks_snr5[npeaks_snr5 == 0] = 10\n",
    "npeaks_snr5 = npeaks_snr5*(snr>4)\n",
    "npeaks_snr5[npeaks_snr5 == 0] = np.nan\n",
    "npeaks_snr5[npeaks_snr5 == 10] = 0\n",
    "\n",
    "fig = aplpy_plot(data=npeaks_snr5, hd=hd2d, cmap=lcmap, zoom=True, fgsz=(6,10), vmin=-0.5, vmax=3.5, \n",
    "                 colourbar_text='number of components fit', background_grey=True, beam_colour='k', contours=True)\n",
    "\n",
    "fig.colorbar.set_ticks([0, 1, 2, 3])\n",
    "# fig.colorbar.set_ticklabel(['e', 'e', 'e', 'e'])\n",
    "\n",
    "\n",
    "fig.show_contour('data_files_prev_works/coherent_core_bound_SD.fits', levels=[0.5], colors='k', linestyles='dotted')\n",
    "\n",
    "for i in range(len(labels)):\n",
    "    fig.add_label( ra_list_text[i], dec_list_text[i], labels[i], color='k', size=14, weight=500, \n",
    "                  bbox=dict(boxstyle=\"circle\", fc=\"0.8\", alpha=1))\n",
    "    \n",
    "    fig.show_arrows(ra_list_text, dec_list_text, dra_list, ddec_list, head_width=2, width=0.1, color='k')\n",
    "#     fig.show_arrows(ra_list, dec_list, dra_list*(-1), ddec_list*(-1), head_width=1, width=0.1, color='k'\n",
    "#                    )\n",
    "#                     arrowstyle='CurveA')\n",
    "#                     arrowprops=dict(arrowstyle=\"-\", shrinkA=0, shrinkB=0, connectionstyle=\"arc3, rad=0.2\", alpha=0.8))\n",
    "    \n",
    "# fig.savefig('plots/npeaks_w-contours_w-ex-spec-loc.pdf', dpi=1000)"
   ]
  },
  {
   "cell_type": "code",
   "execution_count": null,
   "id": "f28bc70e",
   "metadata": {},
   "outputs": [],
   "source": []
  },
  {
   "cell_type": "code",
   "execution_count": null,
   "id": "5683a3ab",
   "metadata": {},
   "outputs": [],
   "source": [
    "arr1_1 = fits.getdata('sorted_comps/first_sort_vel-sig-tmb_extended.fits')\n",
    "\n",
    "dark_blue_arr = fits.getdata('sorted_comps/dark_blue_vel-sig-tmb.fits')\n",
    "mid_blue_arr = fits.getdata('sorted_comps/mid_blue_vel-sig-tmb.fits')\n",
    "mid_red_arr = fits.getdata('sorted_comps/mid_red_vel-sig-tmb.fits')\n",
    "dark_red_arr = fits.getdata('sorted_comps/dark_red_vel-sig-tmb.fits')"
   ]
  },
  {
   "cell_type": "code",
   "execution_count": null,
   "id": "bf032c7d",
   "metadata": {},
   "outputs": [],
   "source": [
    "vel_ext = arr1_1[0]*(snr>4)\n",
    "vel_ext[vel_ext == 0] = np.nan\n",
    "\n",
    "fig = aplpy_plot(data=vel_ext, hd=hd2d, cmap='RdYlBu_r', zoom=True, fgsz=(6,10), contours=True, background_grey=True)\n",
    "\n",
    "# fig.add_label( 0.534, 0.52, 'cond-1', relative=True, color='k',size=10, weight=500, rotation=70, horizontalalignment='left')\n",
    "# fig.add_label( 0.38, 0.47, 'cond-2', relative=True, color='k',size=10, weight=500, rotation=60)\n",
    "# fig.add_label( 0.45, 0.28, 'cond-3', relative=True, color='k',size=10, weight=500, rotation=310)\n",
    "\n",
    "fig.show_contour('data_files_prev_works/coherent_core_bound_SD.fits', levels=[0.5], colors='k', linestyles='dotted')\n",
    "\n",
    "\n",
    "fig.savefig('plots/vel_extended_w-coh-cont.pdf', dpi=1000)"
   ]
  },
  {
   "cell_type": "code",
   "execution_count": null,
   "id": "d0979eec",
   "metadata": {},
   "outputs": [],
   "source": [
    "sig_ext = arr1_1[1]*(snr>4)\n",
    "sig_ext[sig_ext == 0] = np.nan\n",
    "\n",
    "fig = aplpy_plot(data=sig_ext, hd=hd2d, cmap='inferno', zoom=True, fgsz=(6,10), vmin=0, vmax=0.5, contours=True, \n",
    "                 contour_clr='w', background_grey=True, colourbar_text=r'$\\sigma_v\\ (km\\,s^{-1}$)')\n",
    "\n",
    "# fig.add_label( 0.534, 0.52, 'cond-1', relative=True, color='w',size=10, weight=1000, rotation=70, \n",
    "#               horizontalalignment='left')\n",
    "# fig.add_label( 0.38, 0.47, 'cond-2', relative=True, color='w',size=10, weight=1000, rotation=60)\n",
    "# fig.add_label( 0.45, 0.28, 'cond-3', relative=True, color='w',size=10, weight=1000, rotation=310)\n",
    "\n",
    "fig.show_contour('data_files_prev_works/coherent_core_bound_SD.fits', levels=[0.5], colors='w', linestyles='dotted', linewidths=3)\n",
    "fig.show_contour('data_files_prev_works/coherent_core_bound_SD.fits', levels=[0.5], colors='k', linestyles='dotted', linewidths=1)\n",
    "# fig.show_contour('../../coherent_core_bound_SD.fits', levels=[0.5], colors='g', linestyles='dotted')\n",
    "\n",
    "\n",
    "fig.savefig('plots/sig_extended_w-coh-cont.pdf', dpi=200)"
   ]
  },
  {
   "cell_type": "code",
   "execution_count": null,
   "id": "18a23709",
   "metadata": {},
   "outputs": [],
   "source": []
  },
  {
   "cell_type": "code",
   "execution_count": null,
   "id": "8d66bdee",
   "metadata": {},
   "outputs": [],
   "source": []
  },
  {
   "cell_type": "code",
   "execution_count": null,
   "id": "d0b8ceba",
   "metadata": {},
   "outputs": [],
   "source": [
    "fig = plt.figure(figsize=(6,9))\n",
    "\n",
    "fig1 = aplpy_plot(fig=fig, data=dark_blue_arr[0], hd=hd2d, cmap='RdYlBu_r', zoom=True, sbplt=[0.12, 0.5, 0.4, 0.4], \n",
    "                  colourbar=False, vmin=9.7, vmax=10.7, contours=True, background_grey=True, y_bm_lbl=0.1)\n",
    "\n",
    "fig1.tick_labels.hide_x()\n",
    "fig1.axis_labels.hide()\n",
    "\n",
    "\n",
    "fig2 = aplpy_plot(fig=fig, data=mid_blue_arr[0], hd=hd2d, cmap='RdYlBu_r', zoom=True, sbplt=[0.55, 0.5, 0.4, 0.4], \n",
    "                  colourbar=False, vmin=9.7, vmax=10.7, contours=True, background_grey=True, y_bm_lbl=0.1)\n",
    "fig2.tick_labels.hide()\n",
    "fig2.axis_labels.hide()\n",
    "\n",
    "fig3 = aplpy_plot(fig=fig, data=mid_red_arr[0], hd=hd2d, cmap='RdYlBu_r', zoom=True, sbplt=[0.12, 0.07, 0.4, 0.4], \n",
    "                  colourbar=False, vmin=9.7, vmax=10.7, contours=True, background_grey=True, y_bm_lbl=0.1)\n",
    "fig3.axis_labels.hide_y()\n",
    "\n",
    "fig4 = aplpy_plot(fig=fig, data=dark_red_arr[0], hd=hd2d, cmap='RdYlBu_r', zoom=True, sbplt=[0.55, 0.07, 0.4, 0.4], \n",
    "                  colourbar=False, vmin=9.7, vmax=10.7, contours=True, background_grey=True, y_bm_lbl=0.1)\n",
    "fig4.tick_labels.hide_y()\n",
    "fig4.axis_labels.hide_y()\n",
    "\n",
    "fig1.recenter(56.907, 32.8833, width=0.07, height=0.11)\n",
    "fig2.recenter(56.907, 32.8833, width=0.07, height=0.11)\n",
    "fig3.recenter(56.907, 32.8833, width=0.07, height=0.11)\n",
    "fig4.recenter(56.907, 32.8833, width=0.07, height=0.11)\n",
    "\n",
    "\n",
    "fig1.add_label( 0.8, 0.85, 'far-blue', relative=True, color='b', size=15, weight=500)\n",
    "fig2.add_label( 0.8, 0.85, 'mid-blue', relative=True, color='dodgerblue', size=15, weight=500)\n",
    "fig3.add_label( 0.8, 0.85, 'mid-red', relative=True, color='#ef6548', size=15, weight=500)\n",
    "fig4.add_label( 0.8, 0.85, 'far-red', relative=True, color='r', size=15, weight=500)\n",
    "\n",
    "\n",
    "fig1.add_label( 0.12, 0.93, '(a)', relative=True, color='k', size=14, weight=500)\n",
    "fig2.add_label( 0.12, 0.93, '(b)', relative=True, color='k', size=14, weight=500)\n",
    "fig3.add_label( 0.12, 0.93, '(c)', relative=True, color='k', size=14, weight=500)\n",
    "fig4.add_label( 0.12, 0.93, '(d)', relative=True, color='k', size=14, weight=500)\n",
    "\n",
    "fig1.show_contour('data_files_prev_works/coherent_core_bound_SD.fits', levels=[0.5], colors='k', linestyles='dotted')\n",
    "fig2.show_contour('data_files_prev_works/coherent_core_bound_SD.fits', levels=[0.5], colors='k', linestyles='dotted')\n",
    "fig3.show_contour('data_files_prev_works/coherent_core_bound_SD.fits', levels=[0.5], colors='k', linestyles='dotted')\n",
    "fig4.show_contour('data_files_prev_works/coherent_core_bound_SD.fits', levels=[0.5], colors='k', linestyles='dotted')\n",
    "\n",
    "plt.tight_layout()\n",
    "fig.savefig('plots/vel_4-extra-comp_w-coh-cont_new.pdf', dpi=1000)"
   ]
  },
  {
   "cell_type": "code",
   "execution_count": null,
   "id": "11322c86",
   "metadata": {},
   "outputs": [],
   "source": [
    "fig = plt.figure(figsize=(6,10))\n",
    "\n",
    "fig1 = aplpy_plot(fig=fig, data=dark_blue_arr[1], hd=hd2d, cmap='inferno', zoom=True, sbplt=[0.12, 0.52, 0.4, 0.425], \n",
    "                  colourbar=False, vmin=0, vmax=0.4, contours=True, contour_clr='w', background_grey=True, y_bm_lbl=0.1)\n",
    "\n",
    "fig1.tick_labels.hide_x()\n",
    "fig1.axis_labels.hide_x()\n",
    "\n",
    "\n",
    "fig2 = aplpy_plot(fig=fig, data=mid_blue_arr[1], hd=hd2d, cmap='inferno', zoom=True, sbplt=[0.55, 0.52, 0.4, 0.425], \n",
    "                  colourbar=False, vmin=0, vmax=0.4, contours=True, contour_clr='w', background_grey=True, y_bm_lbl=0.1)\n",
    "fig2.tick_labels.hide()\n",
    "fig2.axis_labels.hide()\n",
    "\n",
    "fig3 = aplpy_plot(fig=fig, data=mid_red_arr[1], hd=hd2d, cmap='inferno', zoom=True, sbplt=[0.12, 0.07, 0.4, 0.425], \n",
    "                  colourbar=False, vmin=0, vmax=0.4, contours=True, contour_clr='w', background_grey=True, y_bm_lbl=0.1)\n",
    "\n",
    "fig4 = aplpy_plot(fig=fig, data=dark_red_arr[1], hd=hd2d, cmap='inferno', zoom=True, sbplt=[0.55, 0.07, 0.4, 0.425], \n",
    "                  colourbar=False, vmin=0, vmax=0.4, contours=True, contour_clr='w', background_grey=True, y_bm_lbl=0.1)\n",
    "fig4.tick_labels.hide_y()\n",
    "fig4.axis_labels.hide_y()\n",
    "\n",
    "fig1.recenter(56.907, 32.8833, width=0.07, height=0.11)\n",
    "fig2.recenter(56.907, 32.8833, width=0.07, height=0.11)\n",
    "fig3.recenter(56.907, 32.8833, width=0.07, height=0.11)\n",
    "fig4.recenter(56.907, 32.8833, width=0.07, height=0.11)\n",
    "\n",
    "fig1.add_label( 0.8, 0.5, 'far-blue', relative=True, color='b', size=15, weight=500)\n",
    "fig2.add_label( 0.8, 0.5, 'mid-blue', relative=True, color='dodgerblue', size=15, weight=500)\n",
    "fig3.add_label( 0.8, 0.5, 'mid-red', relative=True, color='#ef6548', size=15, weight=500)\n",
    "fig4.add_label( 0.8, 0.5, 'far-red', relative=True, color='r', size=15, weight=500)\n",
    "\n",
    "\n",
    "fig1.add_label( 0.12, 0.93, '(a)', relative=True, color='k', size=14, weight=500)\n",
    "fig2.add_label( 0.12, 0.93, '(b)', relative=True, color='k', size=14, weight=500)\n",
    "fig3.add_label( 0.12, 0.93, '(c)', relative=True, color='k', size=14, weight=500)\n",
    "fig4.add_label( 0.12, 0.93, '(d)', relative=True, color='k', size=14, weight=500)\n",
    "\n",
    "fig1.show_contour('data_files_prev_works/coherent_core_bound_SD.fits', levels=[0.5], colors='k', linestyles='dotted')\n",
    "fig2.show_contour('data_files_prev_works/coherent_core_bound_SD.fits', levels=[0.5], colors='k', linestyles='dotted')\n",
    "fig3.show_contour('data_files_prev_works/coherent_core_bound_SD.fits', levels=[0.5], colors='k', linestyles='dotted')\n",
    "fig4.show_contour('data_files_prev_works/coherent_core_bound_SD.fits', levels=[0.5], colors='k', linestyles='dotted')\n",
    "\n",
    "plt.tight_layout()\n",
    "fig.savefig('plots/sig_4-extra-comp_w-coh-cont.pdf', dpi=1000)"
   ]
  },
  {
   "cell_type": "code",
   "execution_count": null,
   "id": "5f228835",
   "metadata": {},
   "outputs": [],
   "source": []
  },
  {
   "cell_type": "code",
   "execution_count": null,
   "id": "e82955af",
   "metadata": {},
   "outputs": [],
   "source": []
  },
  {
   "cell_type": "markdown",
   "id": "f4106536",
   "metadata": {},
   "source": [
    "### Bayes K maps"
   ]
  },
  {
   "cell_type": "code",
   "execution_count": null,
   "id": "453c5b45",
   "metadata": {},
   "outputs": [],
   "source": [
    "K_arr_12 = fits.getdata('Tkmin6K/sig_u-lim_ext/B5-Ks.fits')\n",
    "K_arr_34 = fits.getdata('Tkmin6K/B5-Ks.fits')"
   ]
  },
  {
   "cell_type": "code",
   "execution_count": null,
   "id": "1a9f082f",
   "metadata": {},
   "outputs": [],
   "source": [
    "K_arr_01_snr5 = K_arr_12[0].copy()\n",
    "K_arr_01_snr5[K_arr_01_snr5 == 0] = -2\n",
    "K_arr_01_snr5 = K_arr_01_snr5*(snr>4)\n",
    "K_arr_01_snr5[K_arr_01_snr5 == 0] = np.nan\n",
    "K_arr_01_snr5[K_arr_01_snr5 == -2] = 0"
   ]
  },
  {
   "cell_type": "code",
   "execution_count": null,
   "id": "129d2308",
   "metadata": {},
   "outputs": [],
   "source": [
    "K_arr_12_snr5 = K_arr_12[1].copy()\n",
    "K_arr_12_snr5[K_arr_12_snr5 == 0] = -2\n",
    "K_arr_12_snr5 = K_arr_12_snr5*(snr>4)\n",
    "K_arr_12_snr5[K_arr_12_snr5 == 0] = np.nan\n",
    "K_arr_12_snr5[K_arr_12_snr5 == -2] = 0"
   ]
  },
  {
   "cell_type": "code",
   "execution_count": null,
   "id": "f18ffec7",
   "metadata": {},
   "outputs": [],
   "source": [
    "K_arr_23_snr5 = K_arr_34[2].copy()\n",
    "K_arr_23_snr5[K_arr_23_snr5 == 0] = -2\n",
    "K_arr_23_snr5 = K_arr_23_snr5*(snr>4)\n",
    "K_arr_23_snr5[K_arr_23_snr5 == 0] = np.nan\n",
    "K_arr_23_snr5[K_arr_23_snr5 == -2] = 0"
   ]
  },
  {
   "cell_type": "code",
   "execution_count": null,
   "id": "c5240ed4",
   "metadata": {},
   "outputs": [],
   "source": [
    "lcmap = 'viridis'\n",
    "\n",
    "\n",
    "fig = aplpy_plot(data=K_arr_01_snr5, hd=hd2d, cmap=lcmap, zoom=True, fgsz=(6,10), vmin=-2, vmax=2000, vmid=-3,\n",
    "                 colourbar_text=r'ln $K^1_0$', background_grey=True, beam_colour='k', contours=True, \n",
    "                colourscale_stretch='log')\n",
    "\n",
    "fig.colorbar.set_ticks([0, 10, 100, 1000])\n",
    "# fig.colorbar.set_ticklabel(['e', 'e', 'e', 'e'])\n",
    "\n",
    "\n",
    "# fig.show_contour('../../coherent_core_bound_SD.fits', levels=[0.5], colors='k', linestyles='dotted')\n",
    "\n",
    "    \n",
    "fig.savefig('plots/K01_arr_w-contours.pdf', dpi=200)"
   ]
  },
  {
   "cell_type": "code",
   "execution_count": null,
   "id": "0e4b0b81",
   "metadata": {},
   "outputs": [],
   "source": [
    "lcmap = 'viridis'\n",
    "\n",
    "\n",
    "fig = aplpy_plot(data=K_arr_12_snr5, hd=hd2d, cmap=lcmap, zoom=True, fgsz=(6,10), vmin=0, vmax=100, vmid=-1,\n",
    "                 colourbar_text=r'ln $K^2_1$', background_grey=True, beam_colour='k', contours=False, \n",
    "                colourscale_stretch='log')\n",
    "\n",
    "fig.colorbar.set_ticks([0, 5, 10, 100])\n",
    "# fig.colorbar.set_ticklabel(['e', 'e', 'e', 'e'])\n",
    "\n",
    "\n",
    "fig.show_contour(msk_regs['fil1'], colors=['w'], levels=[0])\n",
    "fig.show_contour(msk_regs['fil2'], colors=['w'], levels=[0])\n",
    "\n",
    "fig.show_contour(msk_regs['cnd1'], colors=['k'], levels=[0], linestyles='dashed')\n",
    "fig.show_contour(msk_regs['cnd2'], colors=['k'], levels=[0], linestyles='dashed')\n",
    "fig.show_contour(msk_regs['cnd3'], colors=['k'], levels=[0], linestyles='dashed')\n",
    "    \n",
    "fig.savefig('sig_u-lim_ext/plots/K12_arr_w-contours.pdf', dpi=200)"
   ]
  },
  {
   "cell_type": "code",
   "execution_count": null,
   "id": "75aaab20",
   "metadata": {},
   "outputs": [],
   "source": [
    "lcmap = 'viridis'\n",
    "\n",
    "\n",
    "fig = aplpy_plot(data=K_arr_23_snr5, hd=hd2d, cmap=lcmap, zoom=True, fgsz=(6,10), vmin=-1, vmax=20, vmid=-3,\n",
    "                 colourbar_text=r'ln $K^3_2$', background_grey=True, beam_colour='k', contours=True, \n",
    "                colourscale_stretch='log', contour_clr='w')\n",
    "\n",
    "fig.colorbar.set_ticks([0, 5, 10])\n",
    "# fig.colorbar.set_ticklabel(['e', 'e', 'e', 'e'])\n",
    "\n",
    "\n",
    "fig.show_contour(msk_regs['fil1'], colors=['w'], levels=[0])\n",
    "fig.show_contour(msk_regs['fil2'], colors=['w'], levels=[0])\n",
    "\n",
    "fig.show_contour(msk_regs['cnd1'], colors=['k'], levels=[0], linestyles='dashed')\n",
    "fig.show_contour(msk_regs['cnd2'], colors=['w'], levels=[0], linestyles='dashed')\n",
    "fig.show_contour(msk_regs['cnd3'], colors=['k'], levels=[0], linestyles='dashed')\n",
    "    \n",
    "fig.savefig('sig_u-lim_ext/plots/K23_arr_w-contours.pdf', dpi=200)"
   ]
  },
  {
   "cell_type": "code",
   "execution_count": null,
   "id": "20e6a602",
   "metadata": {},
   "outputs": [],
   "source": []
  }
 ],
 "metadata": {
  "kernelspec": {
   "display_name": "Python 3 (ipykernel)",
   "language": "python",
   "name": "python3"
  },
  "language_info": {
   "codemirror_mode": {
    "name": "ipython",
    "version": 3
   },
   "file_extension": ".py",
   "mimetype": "text/x-python",
   "name": "python",
   "nbconvert_exporter": "python",
   "pygments_lexer": "ipython3",
   "version": "3.9.13"
  }
 },
 "nbformat": 4,
 "nbformat_minor": 5
}
